{
 "cells": [
  {
   "cell_type": "code",
   "execution_count": 1,
   "metadata": {
    "_cell_guid": "b1076dfc-b9ad-4769-8c92-a6c4dae69d19",
    "_uuid": "8f2839f25d086af736a60e9eeb907d3b93b6e0e5",
    "execution": {
     "iopub.execute_input": "2021-08-18T16:51:52.104762Z",
     "iopub.status.busy": "2021-08-18T16:51:52.104143Z",
     "iopub.status.idle": "2021-08-18T16:51:52.109361Z",
     "shell.execute_reply": "2021-08-18T16:51:52.108845Z",
     "shell.execute_reply.started": "2021-08-18T16:28:11.307398Z"
    },
    "papermill": {
     "duration": 0.031369,
     "end_time": "2021-08-18T16:51:52.109486",
     "exception": false,
     "start_time": "2021-08-18T16:51:52.078117",
     "status": "completed"
    },
    "tags": []
   },
   "outputs": [
    {
     "name": "stdout",
     "output_type": "stream",
     "text": [
      "/kaggle/input/titanic/train.csv\n",
      "/kaggle/input/titanic/test.csv\n",
      "/kaggle/input/titanic/gender_submission.csv\n"
     ]
    }
   ],
   "source": [
    "# This Python 3 environment comes with many helpful analytics libraries installed\n",
    "# It is defined by the kaggle/python Docker image: https://github.com/kaggle/docker-python\n",
    "# For example, here's several helpful packages to load\n",
    "\n",
    "import numpy as np # linear algebra\n",
    "import pandas as pd # data processing, CSV file I/O (e.g. pd.read_csv)\n",
    "\n",
    "# Input data files are available in the read-only \"../input/\" directory\n",
    "# For example, running this (by clicking run or pressing Shift+Enter) will list all files under the input directory\n",
    "\n",
    "import os\n",
    "for dirname, _, filenames in os.walk('/kaggle/input'):\n",
    "    for filename in filenames:\n",
    "        print(os.path.join(dirname, filename))\n",
    "\n",
    "# You can write up to 20GB to the current directory (/kaggle/working/) that gets preserved as output when you create a version using \"Save & Run All\" \n",
    "# You can also write temporary files to /kaggle/temp/, but they won't be saved outside of the current session"
   ]
  },
  {
   "cell_type": "code",
   "execution_count": 2,
   "metadata": {
    "execution": {
     "iopub.execute_input": "2021-08-18T16:51:52.155467Z",
     "iopub.status.busy": "2021-08-18T16:51:52.154884Z",
     "iopub.status.idle": "2021-08-18T16:51:54.194055Z",
     "shell.execute_reply": "2021-08-18T16:51:54.193465Z",
     "shell.execute_reply.started": "2021-08-18T16:28:11.601286Z"
    },
    "papermill": {
     "duration": 2.064597,
     "end_time": "2021-08-18T16:51:54.194181",
     "exception": false,
     "start_time": "2021-08-18T16:51:52.129584",
     "status": "completed"
    },
    "tags": []
   },
   "outputs": [],
   "source": [
    "from sklearn.preprocessing import OneHotEncoder, LabelEncoder, StandardScaler, RobustScaler\n",
    "from sklearn.compose import ColumnTransformer\n",
    "from sklearn.pipeline import Pipeline\n",
    "from sklearn.impute import SimpleImputer\n",
    "from sklearn.ensemble import RandomForestRegressor\n",
    "from xgboost import XGBRegressor\n",
    "import scipy\n",
    "from scipy import stats\n",
    "import matplotlib.pyplot as plt\n",
    "import seaborn as sns"
   ]
  },
  {
   "cell_type": "code",
   "execution_count": 3,
   "metadata": {
    "execution": {
     "iopub.execute_input": "2021-08-18T16:51:54.241990Z",
     "iopub.status.busy": "2021-08-18T16:51:54.241366Z",
     "iopub.status.idle": "2021-08-18T16:51:54.282316Z",
     "shell.execute_reply": "2021-08-18T16:51:54.282745Z",
     "shell.execute_reply.started": "2021-08-18T16:28:12.048056Z"
    },
    "papermill": {
     "duration": 0.068377,
     "end_time": "2021-08-18T16:51:54.282931",
     "exception": false,
     "start_time": "2021-08-18T16:51:54.214554",
     "status": "completed"
    },
    "tags": []
   },
   "outputs": [
    {
     "name": "stdout",
     "output_type": "stream",
     "text": [
      "<class 'pandas.core.frame.DataFrame'>\n",
      "RangeIndex: 891 entries, 0 to 890\n",
      "Data columns (total 12 columns):\n",
      " #   Column       Non-Null Count  Dtype  \n",
      "---  ------       --------------  -----  \n",
      " 0   PassengerId  891 non-null    int64  \n",
      " 1   Survived     891 non-null    int64  \n",
      " 2   Pclass       891 non-null    int64  \n",
      " 3   Name         891 non-null    object \n",
      " 4   Sex          891 non-null    object \n",
      " 5   Age          714 non-null    float64\n",
      " 6   SibSp        891 non-null    int64  \n",
      " 7   Parch        891 non-null    int64  \n",
      " 8   Ticket       891 non-null    object \n",
      " 9   Fare         891 non-null    float64\n",
      " 10  Cabin        204 non-null    object \n",
      " 11  Embarked     889 non-null    object \n",
      "dtypes: float64(2), int64(5), object(5)\n",
      "memory usage: 83.7+ KB\n",
      "<class 'pandas.core.frame.DataFrame'>\n",
      "RangeIndex: 418 entries, 0 to 417\n",
      "Data columns (total 11 columns):\n",
      " #   Column       Non-Null Count  Dtype  \n",
      "---  ------       --------------  -----  \n",
      " 0   PassengerId  418 non-null    int64  \n",
      " 1   Pclass       418 non-null    int64  \n",
      " 2   Name         418 non-null    object \n",
      " 3   Sex          418 non-null    object \n",
      " 4   Age          332 non-null    float64\n",
      " 5   SibSp        418 non-null    int64  \n",
      " 6   Parch        418 non-null    int64  \n",
      " 7   Ticket       418 non-null    object \n",
      " 8   Fare         417 non-null    float64\n",
      " 9   Cabin        91 non-null     object \n",
      " 10  Embarked     418 non-null    object \n",
      "dtypes: float64(2), int64(4), object(5)\n",
      "memory usage: 36.0+ KB\n",
      "None None\n"
     ]
    }
   ],
   "source": [
    "train = pd.read_csv(\"/kaggle/input/titanic/train.csv\")\n",
    "test = pd.read_csv(\"/kaggle/input/titanic/test.csv\")\n",
    "print(train.info(), test.info())"
   ]
  },
  {
   "cell_type": "code",
   "execution_count": 4,
   "metadata": {
    "execution": {
     "iopub.execute_input": "2021-08-18T16:51:54.333382Z",
     "iopub.status.busy": "2021-08-18T16:51:54.332635Z",
     "iopub.status.idle": "2021-08-18T16:51:54.335457Z",
     "shell.execute_reply": "2021-08-18T16:51:54.335869Z",
     "shell.execute_reply.started": "2021-08-18T16:28:12.389292Z"
    },
    "papermill": {
     "duration": 0.03313,
     "end_time": "2021-08-18T16:51:54.336009",
     "exception": false,
     "start_time": "2021-08-18T16:51:54.302879",
     "status": "completed"
    },
    "tags": []
   },
   "outputs": [],
   "source": [
    "testindex = test.pop(\"PassengerId\")\n",
    "trainindex = train.pop(\"PassengerId\")\n",
    "train = train.drop('Cabin', axis = 1)\n",
    "test = test.drop('Cabin', axis = 1)"
   ]
  },
  {
   "cell_type": "code",
   "execution_count": 5,
   "metadata": {
    "execution": {
     "iopub.execute_input": "2021-08-18T16:51:54.382160Z",
     "iopub.status.busy": "2021-08-18T16:51:54.381555Z",
     "iopub.status.idle": "2021-08-18T16:51:54.740222Z",
     "shell.execute_reply": "2021-08-18T16:51:54.739722Z",
     "shell.execute_reply.started": "2021-08-18T16:28:12.752304Z"
    },
    "papermill": {
     "duration": 0.3843,
     "end_time": "2021-08-18T16:51:54.740342",
     "exception": false,
     "start_time": "2021-08-18T16:51:54.356042",
     "status": "completed"
    },
    "tags": []
   },
   "outputs": [
    {
     "data": {
      "text/plain": [
       "<matplotlib.axes._subplots.AxesSubplot at 0x7f8798152050>"
      ]
     },
     "execution_count": 5,
     "metadata": {},
     "output_type": "execute_result"
    },
    {
     "data": {
      "image/png": "[encoded data removed]",
      "text/plain": [
       "<Figure size 1080x360 with 2 Axes>"
      ]
     },
     "metadata": {
      "needs_background": "light"
     },
     "output_type": "display_data"
    }
   ],
   "source": [
    "import seaborn as sns\n",
    "import matplotlib.pyplot as plt\n",
    "fig, ax = plt.subplots(1, 2, figsize = (15, 5))\n",
    "train_null = train.isnull().mean()*100\n",
    "test_null = test.isnull().mean()*100\n",
    "train_null.plot.bar(ax = ax[0])\n",
    "test_null.plot.bar(ax = ax[1])"
   ]
  },
  {
   "cell_type": "code",
   "execution_count": 6,
   "metadata": {
    "execution": {
     "iopub.execute_input": "2021-08-18T16:51:54.795353Z",
     "iopub.status.busy": "2021-08-18T16:51:54.793230Z",
     "iopub.status.idle": "2021-08-18T16:51:54.809180Z",
     "shell.execute_reply": "2021-08-18T16:51:54.808630Z",
     "shell.execute_reply.started": "2021-08-18T16:28:13.137549Z"
    },
    "papermill": {
     "duration": 0.047602,
     "end_time": "2021-08-18T16:51:54.809305",
     "exception": false,
     "start_time": "2021-08-18T16:51:54.761703",
     "status": "completed"
    },
    "tags": []
   },
   "outputs": [],
   "source": [
    "si = SimpleImputer(strategy = 'mean')\n",
    "train['age_bool'] = (train.Age.isnull().astype(int))\n",
    "train['Age'] = (si.fit_transform(train[['Age']]))\n",
    "test['age_bool'] = (test.Age.isnull().astype(int))\n",
    "test['Age'] = (si.fit_transform(test[['Age']]))\n",
    "test['Fare'] = (si.fit_transform(test[['Fare']]))"
   ]
  },
  {
   "cell_type": "code",
   "execution_count": 7,
   "metadata": {
    "execution": {
     "iopub.execute_input": "2021-08-18T16:51:54.858959Z",
     "iopub.status.busy": "2021-08-18T16:51:54.858001Z",
     "iopub.status.idle": "2021-08-18T16:51:54.875791Z",
     "shell.execute_reply": "2021-08-18T16:51:54.875254Z",
     "shell.execute_reply.started": "2021-08-18T16:28:13.530621Z"
    },
    "papermill": {
     "duration": 0.045649,
     "end_time": "2021-08-18T16:51:54.875923",
     "exception": false,
     "start_time": "2021-08-18T16:51:54.830274",
     "status": "completed"
    },
    "tags": []
   },
   "outputs": [
    {
     "name": "stdout",
     "output_type": "stream",
     "text": [
      "<class 'pandas.core.frame.DataFrame'>\n",
      "Int64Index: 889 entries, 0 to 890\n",
      "Data columns (total 11 columns):\n",
      " #   Column    Non-Null Count  Dtype  \n",
      "---  ------    --------------  -----  \n",
      " 0   Survived  889 non-null    int64  \n",
      " 1   Pclass    889 non-null    int64  \n",
      " 2   Name      889 non-null    object \n",
      " 3   Sex       889 non-null    object \n",
      " 4   Age       889 non-null    float64\n",
      " 5   SibSp     889 non-null    int64  \n",
      " 6   Parch     889 non-null    int64  \n",
      " 7   Ticket    889 non-null    object \n",
      " 8   Fare      889 non-null    float64\n",
      " 9   Embarked  889 non-null    object \n",
      " 10  age_bool  889 non-null    int64  \n",
      "dtypes: float64(2), int64(5), object(4)\n",
      "memory usage: 83.3+ KB\n",
      "<class 'pandas.core.frame.DataFrame'>\n",
      "RangeIndex: 418 entries, 0 to 417\n",
      "Data columns (total 10 columns):\n",
      " #   Column    Non-Null Count  Dtype  \n",
      "---  ------    --------------  -----  \n",
      " 0   Pclass    418 non-null    int64  \n",
      " 1   Name      418 non-null    object \n",
      " 2   Sex       418 non-null    object \n",
      " 3   Age       418 non-null    float64\n",
      " 4   SibSp     418 non-null    int64  \n",
      " 5   Parch     418 non-null    int64  \n",
      " 6   Ticket    418 non-null    object \n",
      " 7   Fare      418 non-null    float64\n",
      " 8   Embarked  418 non-null    object \n",
      " 9   age_bool  418 non-null    int64  \n",
      "dtypes: float64(2), int64(4), object(4)\n",
      "memory usage: 32.8+ KB\n",
      "None None\n"
     ]
    }
   ],
   "source": [
    "train = train.dropna(axis = 0)\n",
    "print(train.info(),test.info())"
   ]
  },
  {
   "cell_type": "code",
   "execution_count": 8,
   "metadata": {
    "execution": {
     "iopub.execute_input": "2021-08-18T16:51:54.935478Z",
     "iopub.status.busy": "2021-08-18T16:51:54.934521Z",
     "iopub.status.idle": "2021-08-18T16:51:54.946257Z",
     "shell.execute_reply": "2021-08-18T16:51:54.945621Z",
     "shell.execute_reply.started": "2021-08-18T16:28:14.786837Z"
    },
    "papermill": {
     "duration": 0.048724,
     "end_time": "2021-08-18T16:51:54.946378",
     "exception": false,
     "start_time": "2021-08-18T16:51:54.897654",
     "status": "completed"
    },
    "tags": []
   },
   "outputs": [
    {
     "data": {
      "text/html": [
       "<div>\n",
       "<style scoped>\n",
       "    .dataframe tbody tr th:only-of-type {\n",
       "        vertical-align: middle;\n",
       "    }\n",
       "\n",
       "    .dataframe tbody tr th {\n",
       "        vertical-align: top;\n",
       "    }\n",
       "\n",
       "    .dataframe thead th {\n",
       "        text-align: right;\n",
       "    }\n",
       "</style>\n",
       "<table border=\"1\" class=\"dataframe\">\n",
       "  <thead>\n",
       "    <tr style=\"text-align: right;\">\n",
       "      <th></th>\n",
       "      <th>Name</th>\n",
       "      <th>Ticket</th>\n",
       "    </tr>\n",
       "  </thead>\n",
       "  <tbody>\n",
       "    <tr>\n",
       "      <th>0</th>\n",
       "      <td>Kelly, Mr. James</td>\n",
       "      <td>330911</td>\n",
       "    </tr>\n",
       "    <tr>\n",
       "      <th>1</th>\n",
       "      <td>Wilkes, Mrs. James (Ellen Needs)</td>\n",
       "      <td>363272</td>\n",
       "    </tr>\n",
       "    <tr>\n",
       "      <th>2</th>\n",
       "      <td>Myles, Mr. Thomas Francis</td>\n",
       "      <td>240276</td>\n",
       "    </tr>\n",
       "    <tr>\n",
       "      <th>3</th>\n",
       "      <td>Wirz, Mr. Albert</td>\n",
       "      <td>315154</td>\n",
       "    </tr>\n",
       "    <tr>\n",
       "      <th>4</th>\n",
       "      <td>Hirvonen, Mrs. Alexander (Helga E Lindqvist)</td>\n",
       "      <td>3101298</td>\n",
       "    </tr>\n",
       "    <tr>\n",
       "      <th>5</th>\n",
       "      <td>Svensson, Mr. Johan Cervin</td>\n",
       "      <td>7538</td>\n",
       "    </tr>\n",
       "    <tr>\n",
       "      <th>6</th>\n",
       "      <td>Connolly, Miss. Kate</td>\n",
       "      <td>330972</td>\n",
       "    </tr>\n",
       "    <tr>\n",
       "      <th>7</th>\n",
       "      <td>Caldwell, Mr. Albert Francis</td>\n",
       "      <td>248738</td>\n",
       "    </tr>\n",
       "    <tr>\n",
       "      <th>8</th>\n",
       "      <td>Abrahim, Mrs. Joseph (Sophie Halaut Easu)</td>\n",
       "      <td>2657</td>\n",
       "    </tr>\n",
       "    <tr>\n",
       "      <th>9</th>\n",
       "      <td>Davies, Mr. John Samuel</td>\n",
       "      <td>A/4 48871</td>\n",
       "    </tr>\n",
       "  </tbody>\n",
       "</table>\n",
       "</div>"
      ],
      "text/plain": [
       "                                           Name     Ticket\n",
       "0                              Kelly, Mr. James     330911\n",
       "1              Wilkes, Mrs. James (Ellen Needs)     363272\n",
       "2                     Myles, Mr. Thomas Francis     240276\n",
       "3                              Wirz, Mr. Albert     315154\n",
       "4  Hirvonen, Mrs. Alexander (Helga E Lindqvist)    3101298\n",
       "5                    Svensson, Mr. Johan Cervin       7538\n",
       "6                          Connolly, Miss. Kate     330972\n",
       "7                  Caldwell, Mr. Albert Francis     248738\n",
       "8     Abrahim, Mrs. Joseph (Sophie Halaut Easu)       2657\n",
       "9                       Davies, Mr. John Samuel  A/4 48871"
      ]
     },
     "execution_count": 8,
     "metadata": {},
     "output_type": "execute_result"
    }
   ],
   "source": [
    "test[['Name', 'Ticket']].head(10)"
   ]
  },
  {
   "cell_type": "code",
   "execution_count": 9,
   "metadata": {
    "execution": {
     "iopub.execute_input": "2021-08-18T16:51:55.002037Z",
     "iopub.status.busy": "2021-08-18T16:51:55.001389Z",
     "iopub.status.idle": "2021-08-18T16:51:55.004723Z",
     "shell.execute_reply": "2021-08-18T16:51:55.004244Z",
     "shell.execute_reply.started": "2021-08-18T16:28:15.903301Z"
    },
    "papermill": {
     "duration": 0.036657,
     "end_time": "2021-08-18T16:51:55.004864",
     "exception": false,
     "start_time": "2021-08-18T16:51:54.968207",
     "status": "completed"
    },
    "tags": []
   },
   "outputs": [],
   "source": [
    "t1  = pd.DataFrame()\n",
    "t2 = pd.DataFrame()\n",
    "t1['Tic'] = 'n_' + train.Ticket.astype(str)\n",
    "t2['Tic'] = 'n_' + test.Ticket.astype(str)"
   ]
  },
  {
   "cell_type": "code",
   "execution_count": 10,
   "metadata": {
    "execution": {
     "iopub.execute_input": "2021-08-18T16:51:55.086688Z",
     "iopub.status.busy": "2021-08-18T16:51:55.081730Z",
     "iopub.status.idle": "2021-08-18T16:51:55.554203Z",
     "shell.execute_reply": "2021-08-18T16:51:55.553586Z",
     "shell.execute_reply.started": "2021-08-18T16:28:16.735448Z"
    },
    "papermill": {
     "duration": 0.528014,
     "end_time": "2021-08-18T16:51:55.554317",
     "exception": false,
     "start_time": "2021-08-18T16:51:55.026303",
     "status": "completed"
    },
    "tags": []
   },
   "outputs": [
    {
     "data": {
      "text/plain": [
       "Text(0.5, 1.0, 'Unique Coaches')"
      ]
     },
     "execution_count": 10,
     "metadata": {},
     "output_type": "execute_result"
    },
    {
     "data": {
      "image/png": "[encoded data removed]",
      "text/plain": [
       "<Figure size 864x864 with 2 Axes>"
      ]
     },
     "metadata": {
      "needs_background": "light"
     },
     "output_type": "display_data"
    }
   ],
   "source": [
    "d = pd.DataFrame()\n",
    "m = pd.DataFrame()\n",
    "d['Surname'] = train.Name.str.split(',',expand = True)[0]\n",
    "d['coach'] = t1.Tic.str.split(' ', expand = True)[0]\n",
    "d['coach'] = d.coach.str.replace('n_\\d+', 'n_n')\n",
    "d['coach'] = d.coach.str.replace('[^\\w\\s]','')\n",
    "d['coach'] = d.coach.str.lower()\n",
    "m['Surname'] = test.Name.str.split(',',expand = True)[0]\n",
    "m['coach'] = t2.Tic.str.split(' ', expand = True)[0]\n",
    "m['coach'] = d.coach.str.replace('n_\\d+', 'n_n')\n",
    "m['coach'] = d.coach.str.replace('[^\\w\\s]','')\n",
    "m['coach'] = d.coach.str.lower()\n",
    "fig, ax = plt.subplots(2,1, figsize = (12,12))\n",
    "d.Surname.value_counts().hist(ax = ax[0])\n",
    "ax[0].set_xlabel('values')\n",
    "ax[0].set_ylabel('Number Of Surnames')\n",
    "ax[0].set_title('Unique Surnames')\n",
    "d.coach.value_counts().plot.bar(ax = ax[1])\n",
    "ax[1].set_xlabel('Coaches')\n",
    "ax[1].set_ylabel('Values')\n",
    "ax[1].set_title('Unique Coaches')"
   ]
  },
  {
   "cell_type": "code",
   "execution_count": 11,
   "metadata": {
    "execution": {
     "iopub.execute_input": "2021-08-18T16:51:55.613659Z",
     "iopub.status.busy": "2021-08-18T16:51:55.612038Z",
     "iopub.status.idle": "2021-08-18T16:51:55.618293Z",
     "shell.execute_reply": "2021-08-18T16:51:55.617785Z",
     "shell.execute_reply.started": "2021-08-18T16:28:17.959997Z"
    },
    "papermill": {
     "duration": 0.041084,
     "end_time": "2021-08-18T16:51:55.618409",
     "exception": false,
     "start_time": "2021-08-18T16:51:55.577325",
     "status": "completed"
    },
    "tags": []
   },
   "outputs": [],
   "source": [
    "m = m.fillna('n_n')\n",
    "train_ = pd.concat([train, d], axis = 1)\n",
    "test_ = pd.concat([test, m], axis = 1)\n",
    "train_ = train_.drop(['Name', 'Ticket'], axis = 1)\n",
    "test_ = test_.drop(['Name', 'Ticket'], axis = 1)"
   ]
  },
  {
   "cell_type": "code",
   "execution_count": 12,
   "metadata": {
    "execution": {
     "iopub.execute_input": "2021-08-18T16:51:55.674154Z",
     "iopub.status.busy": "2021-08-18T16:51:55.673214Z",
     "iopub.status.idle": "2021-08-18T16:51:55.676349Z",
     "shell.execute_reply": "2021-08-18T16:51:55.675716Z",
     "shell.execute_reply.started": "2021-08-18T16:28:19.051619Z"
    },
    "papermill": {
     "duration": 0.035104,
     "end_time": "2021-08-18T16:51:55.676470",
     "exception": false,
     "start_time": "2021-08-18T16:51:55.641366",
     "status": "completed"
    },
    "tags": []
   },
   "outputs": [],
   "source": [
    "lb = LabelEncoder()\n",
    "train_['Surname'] = lb.fit_transform(train_.Surname)\n",
    "test_['Surname'] = lb.fit_transform(test_.Surname)\n",
    "train_.coach = lb.fit_transform(train_.coach)\n",
    "test_.coach = lb.fit_transform(test_.coach)"
   ]
  },
  {
   "cell_type": "code",
   "execution_count": 13,
   "metadata": {
    "execution": {
     "iopub.execute_input": "2021-08-18T16:51:55.735570Z",
     "iopub.status.busy": "2021-08-18T16:51:55.729348Z",
     "iopub.status.idle": "2021-08-18T16:51:55.744122Z",
     "shell.execute_reply": "2021-08-18T16:51:55.743600Z",
     "shell.execute_reply.started": "2021-08-18T16:28:21.198495Z"
    },
    "papermill": {
     "duration": 0.044889,
     "end_time": "2021-08-18T16:51:55.744249",
     "exception": false,
     "start_time": "2021-08-18T16:51:55.699360",
     "status": "completed"
    },
    "tags": []
   },
   "outputs": [],
   "source": [
    "for i in ['Sex', 'Embarked']:\n",
    "    sam = pd.get_dummies(train[i], prefix = i)\n",
    "    train_ = pd.concat([train_, sam], axis =1)\n",
    "    sam2 = pd.get_dummies(test[i], prefix = i)\n",
    "    test_ = pd.concat([test_, sam2], axis =1)"
   ]
  },
  {
   "cell_type": "code",
   "execution_count": 14,
   "metadata": {
    "execution": {
     "iopub.execute_input": "2021-08-18T16:51:55.796755Z",
     "iopub.status.busy": "2021-08-18T16:51:55.795805Z",
     "iopub.status.idle": "2021-08-18T16:51:55.816291Z",
     "shell.execute_reply": "2021-08-18T16:51:55.815750Z",
     "shell.execute_reply.started": "2021-08-18T16:28:22.443515Z"
    },
    "papermill": {
     "duration": 0.049014,
     "end_time": "2021-08-18T16:51:55.816404",
     "exception": false,
     "start_time": "2021-08-18T16:51:55.767390",
     "status": "completed"
    },
    "tags": []
   },
   "outputs": [
    {
     "name": "stdout",
     "output_type": "stream",
     "text": [
      "<class 'pandas.core.frame.DataFrame'>\n",
      "Int64Index: 889 entries, 0 to 890\n",
      "Data columns (total 14 columns):\n",
      " #   Column      Non-Null Count  Dtype  \n",
      "---  ------      --------------  -----  \n",
      " 0   Survived    889 non-null    int64  \n",
      " 1   Pclass      889 non-null    int64  \n",
      " 2   Age         889 non-null    float64\n",
      " 3   SibSp       889 non-null    int64  \n",
      " 4   Parch       889 non-null    int64  \n",
      " 5   Fare        889 non-null    float64\n",
      " 6   age_bool    889 non-null    int64  \n",
      " 7   Surname     889 non-null    int64  \n",
      " 8   coach       889 non-null    int64  \n",
      " 9   Sex_female  889 non-null    uint8  \n",
      " 10  Sex_male    889 non-null    uint8  \n",
      " 11  Embarked_C  889 non-null    uint8  \n",
      " 12  Embarked_Q  889 non-null    uint8  \n",
      " 13  Embarked_S  889 non-null    uint8  \n",
      "dtypes: float64(2), int64(7), uint8(5)\n",
      "memory usage: 113.8 KB\n",
      "<class 'pandas.core.frame.DataFrame'>\n",
      "RangeIndex: 418 entries, 0 to 417\n",
      "Data columns (total 13 columns):\n",
      " #   Column      Non-Null Count  Dtype  \n",
      "---  ------      --------------  -----  \n",
      " 0   Pclass      418 non-null    int64  \n",
      " 1   Age         418 non-null    float64\n",
      " 2   SibSp       418 non-null    int64  \n",
      " 3   Parch       418 non-null    int64  \n",
      " 4   Fare        418 non-null    float64\n",
      " 5   age_bool    418 non-null    int64  \n",
      " 6   Surname     418 non-null    int64  \n",
      " 7   coach       418 non-null    int64  \n",
      " 8   Sex_female  418 non-null    uint8  \n",
      " 9   Sex_male    418 non-null    uint8  \n",
      " 10  Embarked_C  418 non-null    uint8  \n",
      " 11  Embarked_Q  418 non-null    uint8  \n",
      " 12  Embarked_S  418 non-null    uint8  \n",
      "dtypes: float64(2), int64(6), uint8(5)\n",
      "memory usage: 28.3 KB\n",
      "None None\n"
     ]
    }
   ],
   "source": [
    "trainf = train_.drop(['Sex','Embarked'], axis = 1)\n",
    "testf = test_.drop(['Sex', 'Embarked'], axis = 1)\n",
    "\n",
    "print(trainf.info(),testf.info())"
   ]
  },
  {
   "cell_type": "code",
   "execution_count": null,
   "metadata": {
    "execution": {
     "iopub.execute_input": "2021-08-18T16:32:27.262348Z",
     "iopub.status.busy": "2021-08-18T16:32:27.262005Z",
     "iopub.status.idle": "2021-08-18T16:32:27.270866Z",
     "shell.execute_reply": "2021-08-18T16:32:27.269832Z",
     "shell.execute_reply.started": "2021-08-18T16:32:27.262320Z"
    },
    "papermill": {
     "duration": 0.023255,
     "end_time": "2021-08-18T16:51:55.862928",
     "exception": false,
     "start_time": "2021-08-18T16:51:55.839673",
     "status": "completed"
    },
    "tags": []
   },
   "outputs": [],
   "source": []
  },
  {
   "cell_type": "code",
   "execution_count": 15,
   "metadata": {
    "execution": {
     "iopub.execute_input": "2021-08-18T16:51:55.924401Z",
     "iopub.status.busy": "2021-08-18T16:51:55.919085Z",
     "iopub.status.idle": "2021-08-18T16:51:56.513332Z",
     "shell.execute_reply": "2021-08-18T16:51:56.513792Z",
     "shell.execute_reply.started": "2021-08-18T16:47:17.336169Z"
    },
    "papermill": {
     "duration": 0.627779,
     "end_time": "2021-08-18T16:51:56.513936",
     "exception": false,
     "start_time": "2021-08-18T16:51:55.886157",
     "status": "completed"
    },
    "tags": []
   },
   "outputs": [
    {
     "data": {
      "text/plain": [
       "<matplotlib.axes._subplots.AxesSubplot at 0x7f877ad4bed0>"
      ]
     },
     "execution_count": 15,
     "metadata": {},
     "output_type": "execute_result"
    },
    {
     "data": {
      "image/png": "[encoded data removed]",
      "text/plain": [
       "<Figure size 1080x1440 with 3 Axes>"
      ]
     },
     "metadata": {
      "needs_background": "light"
     },
     "output_type": "display_data"
    }
   ],
   "source": [
    "fig , ax = plt.subplots(2,1, figsize = (15,20))\n",
    "sns.heatmap(trainf.corr(), linewidth = 0.1, ax = ax[0])\n",
    "trainf.corr()['Survived'].plot.bar(ax = ax[1])"
   ]
  },
  {
   "cell_type": "code",
   "execution_count": 16,
   "metadata": {
    "execution": {
     "iopub.execute_input": "2021-08-18T16:51:56.580617Z",
     "iopub.status.busy": "2021-08-18T16:51:56.579645Z",
     "iopub.status.idle": "2021-08-18T16:51:58.565028Z",
     "shell.execute_reply": "2021-08-18T16:51:58.565489Z",
     "shell.execute_reply.started": "2021-08-18T16:35:34.795438Z"
    },
    "papermill": {
     "duration": 2.026637,
     "end_time": "2021-08-18T16:51:58.565631",
     "exception": false,
     "start_time": "2021-08-18T16:51:56.538994",
     "status": "completed"
    },
    "tags": []
   },
   "outputs": [
    {
     "data": {
      "image/png": "[encoded data removed]",
      "text/plain": [
       "<Figure size 1728x1152 with 16 Axes>"
      ]
     },
     "metadata": {
      "needs_background": "light"
     },
     "output_type": "display_data"
    }
   ],
   "source": [
    "trainf.drop('Survived', axis = 1).hist(figsize = (24,16))\n",
    "plt.show()"
   ]
  },
  {
   "cell_type": "code",
   "execution_count": 17,
   "metadata": {
    "execution": {
     "iopub.execute_input": "2021-08-18T16:51:58.626838Z",
     "iopub.status.busy": "2021-08-18T16:51:58.626024Z",
     "iopub.status.idle": "2021-08-18T16:51:58.629186Z",
     "shell.execute_reply": "2021-08-18T16:51:58.628705Z",
     "shell.execute_reply.started": "2021-08-18T16:43:50.052864Z"
    },
    "papermill": {
     "duration": 0.037091,
     "end_time": "2021-08-18T16:51:58.629300",
     "exception": false,
     "start_time": "2021-08-18T16:51:58.592209",
     "status": "completed"
    },
    "tags": []
   },
   "outputs": [],
   "source": [
    "train1 = trainf.copy()\n",
    "test1 = testf.copy()\n",
    "Y = train1.Survived\n",
    "train1 = train1.drop(['Survived','Surname'], axis = 1 )\n",
    "test1 = test1.drop(['Surname'], axis = 1)"
   ]
  },
  {
   "cell_type": "code",
   "execution_count": 18,
   "metadata": {
    "execution": {
     "iopub.execute_input": "2021-08-18T16:51:58.686505Z",
     "iopub.status.busy": "2021-08-18T16:51:58.685895Z",
     "iopub.status.idle": "2021-08-18T16:52:03.657615Z",
     "shell.execute_reply": "2021-08-18T16:52:03.657016Z",
     "shell.execute_reply.started": "2021-08-18T16:43:53.007572Z"
    },
    "papermill": {
     "duration": 5.002107,
     "end_time": "2021-08-18T16:52:03.657723",
     "exception": false,
     "start_time": "2021-08-18T16:51:58.655616",
     "status": "completed"
    },
    "tags": []
   },
   "outputs": [],
   "source": [
    "from tensorflow import keras\n",
    "from tensorflow.keras import layers"
   ]
  },
  {
   "cell_type": "code",
   "execution_count": 19,
   "metadata": {
    "execution": {
     "iopub.execute_input": "2021-08-18T16:52:03.723023Z",
     "iopub.status.busy": "2021-08-18T16:52:03.722407Z",
     "iopub.status.idle": "2021-08-18T16:52:03.726217Z",
     "shell.execute_reply": "2021-08-18T16:52:03.726762Z",
     "shell.execute_reply.started": "2021-08-18T16:44:10.054946Z"
    },
    "papermill": {
     "duration": 0.042491,
     "end_time": "2021-08-18T16:52:03.726918",
     "exception": false,
     "start_time": "2021-08-18T16:52:03.684427",
     "status": "completed"
    },
    "tags": []
   },
   "outputs": [
    {
     "name": "stdout",
     "output_type": "stream",
     "text": [
      "(711, 12) (178, 12) (711,) (178,)\n"
     ]
    }
   ],
   "source": [
    "val =int(train1.shape[0] -(train1.shape[0]*0.2))\n",
    "x_train = train1.loc[:val,:]\n",
    "x_test = train1.loc[val+1:,:]\n",
    "y_train = Y.loc[:val]\n",
    "y_test = Y.loc[val+1:]\n",
    "print(x_train.shape, x_test.shape,y_train.shape, y_test.shape)"
   ]
  },
  {
   "cell_type": "code",
   "execution_count": 20,
   "metadata": {
    "execution": {
     "iopub.execute_input": "2021-08-18T16:52:03.787568Z",
     "iopub.status.busy": "2021-08-18T16:52:03.786999Z",
     "iopub.status.idle": "2021-08-18T16:52:05.334528Z",
     "shell.execute_reply": "2021-08-18T16:52:05.333938Z",
     "shell.execute_reply.started": "2021-08-18T16:44:19.293358Z"
    },
    "papermill": {
     "duration": 1.581113,
     "end_time": "2021-08-18T16:52:05.334639",
     "exception": false,
     "start_time": "2021-08-18T16:52:03.753526",
     "status": "completed"
    },
    "tags": []
   },
   "outputs": [
    {
     "name": "stdout",
     "output_type": "stream",
     "text": [
      "0.5705049273618767\n"
     ]
    }
   ],
   "source": [
    "from sklearn.metrics import log_loss\n",
    "model_1 = RandomForestRegressor(n_estimators = 700)\n",
    "model_1.fit(x_train, y_train)\n",
    "res = model_1.predict(x_test)\n",
    "score = log_loss(y_test, res)\n",
    "print(score)"
   ]
  },
  {
   "cell_type": "code",
   "execution_count": 21,
   "metadata": {
    "execution": {
     "iopub.execute_input": "2021-08-18T16:52:05.393762Z",
     "iopub.status.busy": "2021-08-18T16:52:05.392876Z",
     "iopub.status.idle": "2021-08-18T16:52:05.515687Z",
     "shell.execute_reply": "2021-08-18T16:52:05.516676Z",
     "shell.execute_reply.started": "2021-08-18T16:45:11.229448Z"
    },
    "papermill": {
     "duration": 0.155187,
     "end_time": "2021-08-18T16:52:05.516872",
     "exception": false,
     "start_time": "2021-08-18T16:52:05.361685",
     "status": "completed"
    },
    "tags": []
   },
   "outputs": [
    {
     "name": "stdout",
     "output_type": "stream",
     "text": [
      "[0]\tvalidation_0-rmse:0.41751\n",
      "Will train until validation_0-rmse hasn't improved in 20 rounds.\n",
      "[1]\tvalidation_0-rmse:0.36905\n",
      "[2]\tvalidation_0-rmse:0.34244\n",
      "[3]\tvalidation_0-rmse:0.32682\n",
      "[4]\tvalidation_0-rmse:0.32149\n",
      "[5]\tvalidation_0-rmse:0.32133\n",
      "[6]\tvalidation_0-rmse:0.31642\n",
      "[7]\tvalidation_0-rmse:0.31482\n",
      "[8]\tvalidation_0-rmse:0.31878\n",
      "[9]\tvalidation_0-rmse:0.31791\n",
      "[10]\tvalidation_0-rmse:0.32106\n",
      "[11]\tvalidation_0-rmse:0.32258\n",
      "[12]\tvalidation_0-rmse:0.32383\n",
      "[13]\tvalidation_0-rmse:0.32760\n",
      "[14]\tvalidation_0-rmse:0.32863\n",
      "[15]\tvalidation_0-rmse:0.33008\n",
      "[16]\tvalidation_0-rmse:0.33122\n",
      "[17]\tvalidation_0-rmse:0.33085\n",
      "[18]\tvalidation_0-rmse:0.33060\n",
      "[19]\tvalidation_0-rmse:0.33175\n",
      "[20]\tvalidation_0-rmse:0.33238\n",
      "[21]\tvalidation_0-rmse:0.33312\n",
      "[22]\tvalidation_0-rmse:0.33361\n",
      "[23]\tvalidation_0-rmse:0.33391\n",
      "[24]\tvalidation_0-rmse:0.33486\n",
      "[25]\tvalidation_0-rmse:0.33478\n",
      "[26]\tvalidation_0-rmse:0.33448\n",
      "[27]\tvalidation_0-rmse:0.33423\n",
      "Stopping. Best iteration:\n",
      "[7]\tvalidation_0-rmse:0.31482\n",
      "\n"
     ]
    },
    {
     "data": {
      "text/plain": [
       "XGBRegressor(base_score=0.5, booster='gbtree', colsample_bylevel=1,\n",
       "             colsample_bynode=1, colsample_bytree=1, gamma=0, gpu_id=-1,\n",
       "             importance_type='gain', interaction_constraints='',\n",
       "             learning_rate=0.300000012, max_delta_step=0, max_depth=6,\n",
       "             min_child_weight=1, missing=nan, monotone_constraints='()',\n",
       "             n_estimators=500, n_jobs=0, num_parallel_tree=1, random_state=0,\n",
       "             reg_alpha=0, reg_lambda=1, scale_pos_weight=1, subsample=1,\n",
       "             tree_method='exact', validate_parameters=1, verbosity=None)"
      ]
     },
     "execution_count": 21,
     "metadata": {},
     "output_type": "execute_result"
    }
   ],
   "source": [
    "model_2 = XGBRegressor(n_estimators = 500)\n",
    "model_2.fit(x_train, y_train,eval_set = [(x_test, y_test)], early_stopping_rounds = 20)"
   ]
  },
  {
   "cell_type": "code",
   "execution_count": 22,
   "metadata": {
    "execution": {
     "iopub.execute_input": "2021-08-18T16:52:05.632447Z",
     "iopub.status.busy": "2021-08-18T16:52:05.631634Z",
     "iopub.status.idle": "2021-08-18T16:52:05.932668Z",
     "shell.execute_reply": "2021-08-18T16:52:05.933687Z",
     "shell.execute_reply.started": "2021-08-18T16:50:17.609522Z"
    },
    "papermill": {
     "duration": 0.3642,
     "end_time": "2021-08-18T16:52:05.933872",
     "exception": false,
     "start_time": "2021-08-18T16:52:05.569672",
     "status": "completed"
    },
    "tags": []
   },
   "outputs": [],
   "source": [
    "model = keras.Sequential([\n",
    "    layers.BatchNormalization(input_shape = [12]),\n",
    "    layers.Dense(159, kernel_initializer = 'normal', activation = 'relu'),\n",
    "    layers.Dropout(0.3),\n",
    "     layers.Dense(256, kernel_initializer = 'normal', activation = 'relu'),\n",
    "    layers.BatchNormalization(),\n",
    "    layers.Dropout(0.2),\n",
    "    layers.Dense(250, kernel_initializer = 'normal', activation = 'relu'),\n",
    "    layers.BatchNormalization(),\n",
    "    \n",
    "     layers.Dense(150, kernel_initializer = 'normal', activation = 'relu'),\n",
    "    layers.BatchNormalization(),\n",
    "    \n",
    "          layers.Dense(212, kernel_initializer = 'normal', activation = 'relu'),\n",
    "    layers.BatchNormalization(),\n",
    "    \n",
    "          layers.Dense(1, activation = 'sigmoid')\n",
    "])"
   ]
  },
  {
   "cell_type": "code",
   "execution_count": 23,
   "metadata": {
    "execution": {
     "iopub.execute_input": "2021-08-18T16:52:06.006612Z",
     "iopub.status.busy": "2021-08-18T16:52:06.006001Z",
     "iopub.status.idle": "2021-08-18T16:52:06.018718Z",
     "shell.execute_reply": "2021-08-18T16:52:06.019233Z",
     "shell.execute_reply.started": "2021-08-18T16:50:19.907548Z"
    },
    "papermill": {
     "duration": 0.050664,
     "end_time": "2021-08-18T16:52:06.019375",
     "exception": false,
     "start_time": "2021-08-18T16:52:05.968711",
     "status": "completed"
    },
    "tags": []
   },
   "outputs": [],
   "source": [
    "model.compile(\n",
    "    optimizer = keras.optimizers.Adam(),\n",
    "    loss = 'binary_crossentropy',\n",
    "    metrics = ['binary_accuracy']\n",
    ")"
   ]
  },
  {
   "cell_type": "code",
   "execution_count": 24,
   "metadata": {
    "execution": {
     "iopub.execute_input": "2021-08-18T16:52:06.092932Z",
     "iopub.status.busy": "2021-08-18T16:52:06.092336Z",
     "iopub.status.idle": "2021-08-18T16:52:06.095929Z",
     "shell.execute_reply": "2021-08-18T16:52:06.096380Z",
     "shell.execute_reply.started": "2021-08-18T16:50:26.538990Z"
    },
    "papermill": {
     "duration": 0.041571,
     "end_time": "2021-08-18T16:52:06.096513",
     "exception": false,
     "start_time": "2021-08-18T16:52:06.054942",
     "status": "completed"
    },
    "tags": []
   },
   "outputs": [],
   "source": [
    "early_stop = keras.callbacks.EarlyStopping(\n",
    "                                    min_delta = 0.001,\n",
    "                                    patience = 20,\n",
    "                                    restore_best_weights = True)"
   ]
  },
  {
   "cell_type": "code",
   "execution_count": 25,
   "metadata": {
    "execution": {
     "iopub.execute_input": "2021-08-18T16:52:06.169189Z",
     "iopub.status.busy": "2021-08-18T16:52:06.168579Z",
     "iopub.status.idle": "2021-08-18T16:52:13.436830Z",
     "shell.execute_reply": "2021-08-18T16:52:13.436336Z",
     "shell.execute_reply.started": "2021-08-18T16:50:28.288531Z"
    },
    "papermill": {
     "duration": 7.305385,
     "end_time": "2021-08-18T16:52:13.436955",
     "exception": false,
     "start_time": "2021-08-18T16:52:06.131570",
     "status": "completed"
    },
    "tags": []
   },
   "outputs": [
    {
     "name": "stdout",
     "output_type": "stream",
     "text": [
      "Epoch 1/2000\n",
      "24/24 [==============================] - 0s 14ms/step - loss: 0.6598 - binary_accuracy: 0.6807 - val_loss: 0.6535 - val_binary_accuracy: 0.6461\n",
      "Epoch 2/2000\n",
      "24/24 [==============================] - 0s 4ms/step - loss: 0.5809 - binary_accuracy: 0.7567 - val_loss: 0.6458 - val_binary_accuracy: 0.6461\n",
      "Epoch 3/2000\n",
      "24/24 [==============================] - 0s 4ms/step - loss: 0.5102 - binary_accuracy: 0.7679 - val_loss: 0.6392 - val_binary_accuracy: 0.6461\n",
      "Epoch 4/2000\n",
      "24/24 [==============================] - 0s 4ms/step - loss: 0.5056 - binary_accuracy: 0.7918 - val_loss: 0.6379 - val_binary_accuracy: 0.6461\n",
      "Epoch 5/2000\n",
      "24/24 [==============================] - 0s 4ms/step - loss: 0.5186 - binary_accuracy: 0.7820 - val_loss: 0.6202 - val_binary_accuracy: 0.6461\n",
      "Epoch 6/2000\n",
      "24/24 [==============================] - 0s 4ms/step - loss: 0.4626 - binary_accuracy: 0.7876 - val_loss: 0.6205 - val_binary_accuracy: 0.6461\n",
      "Epoch 7/2000\n",
      "24/24 [==============================] - 0s 5ms/step - loss: 0.4802 - binary_accuracy: 0.8003 - val_loss: 0.6071 - val_binary_accuracy: 0.6461\n",
      "Epoch 8/2000\n",
      "24/24 [==============================] - 0s 5ms/step - loss: 0.4648 - binary_accuracy: 0.7989 - val_loss: 0.5826 - val_binary_accuracy: 0.6461\n",
      "Epoch 9/2000\n",
      "24/24 [==============================] - 0s 4ms/step - loss: 0.4467 - binary_accuracy: 0.8059 - val_loss: 0.5869 - val_binary_accuracy: 0.6517\n",
      "Epoch 10/2000\n",
      "24/24 [==============================] - 0s 4ms/step - loss: 0.4465 - binary_accuracy: 0.8143 - val_loss: 0.5484 - val_binary_accuracy: 0.6966\n",
      "Epoch 11/2000\n",
      "24/24 [==============================] - 0s 4ms/step - loss: 0.4446 - binary_accuracy: 0.7989 - val_loss: 0.4965 - val_binary_accuracy: 0.7584\n",
      "Epoch 12/2000\n",
      "24/24 [==============================] - 0s 4ms/step - loss: 0.4570 - binary_accuracy: 0.8059 - val_loss: 0.4667 - val_binary_accuracy: 0.8090\n",
      "Epoch 13/2000\n",
      "24/24 [==============================] - 0s 4ms/step - loss: 0.4297 - binary_accuracy: 0.8200 - val_loss: 0.4646 - val_binary_accuracy: 0.8034\n",
      "Epoch 14/2000\n",
      "24/24 [==============================] - 0s 4ms/step - loss: 0.4543 - binary_accuracy: 0.8101 - val_loss: 0.4316 - val_binary_accuracy: 0.8034\n",
      "Epoch 15/2000\n",
      "24/24 [==============================] - 0s 4ms/step - loss: 0.4372 - binary_accuracy: 0.8143 - val_loss: 0.4614 - val_binary_accuracy: 0.7809\n",
      "Epoch 16/2000\n",
      "24/24 [==============================] - 0s 5ms/step - loss: 0.4242 - binary_accuracy: 0.8214 - val_loss: 0.3961 - val_binary_accuracy: 0.8202\n",
      "Epoch 17/2000\n",
      "24/24 [==============================] - 0s 5ms/step - loss: 0.4569 - binary_accuracy: 0.7890 - val_loss: 0.4499 - val_binary_accuracy: 0.7865\n",
      "Epoch 18/2000\n",
      "24/24 [==============================] - 0s 4ms/step - loss: 0.4207 - binary_accuracy: 0.8115 - val_loss: 0.4038 - val_binary_accuracy: 0.7921\n",
      "Epoch 19/2000\n",
      "24/24 [==============================] - 0s 4ms/step - loss: 0.4431 - binary_accuracy: 0.8073 - val_loss: 0.3854 - val_binary_accuracy: 0.8427\n",
      "Epoch 20/2000\n",
      "24/24 [==============================] - 0s 4ms/step - loss: 0.4219 - binary_accuracy: 0.8326 - val_loss: 0.4110 - val_binary_accuracy: 0.8202\n",
      "Epoch 21/2000\n",
      "24/24 [==============================] - 0s 4ms/step - loss: 0.4185 - binary_accuracy: 0.8186 - val_loss: 0.4194 - val_binary_accuracy: 0.7978\n",
      "Epoch 22/2000\n",
      "24/24 [==============================] - 0s 4ms/step - loss: 0.4266 - binary_accuracy: 0.8256 - val_loss: 0.4331 - val_binary_accuracy: 0.8034\n",
      "Epoch 23/2000\n",
      "24/24 [==============================] - 0s 4ms/step - loss: 0.4191 - binary_accuracy: 0.8186 - val_loss: 0.3953 - val_binary_accuracy: 0.8539\n",
      "Epoch 24/2000\n",
      "24/24 [==============================] - 0s 4ms/step - loss: 0.4200 - binary_accuracy: 0.8143 - val_loss: 0.3865 - val_binary_accuracy: 0.8258\n",
      "Epoch 25/2000\n",
      "24/24 [==============================] - 0s 4ms/step - loss: 0.4391 - binary_accuracy: 0.8158 - val_loss: 0.4101 - val_binary_accuracy: 0.8483\n",
      "Epoch 26/2000\n",
      "24/24 [==============================] - 0s 4ms/step - loss: 0.4143 - binary_accuracy: 0.8242 - val_loss: 0.4164 - val_binary_accuracy: 0.8258\n",
      "Epoch 27/2000\n",
      "24/24 [==============================] - 0s 4ms/step - loss: 0.4303 - binary_accuracy: 0.8129 - val_loss: 0.3797 - val_binary_accuracy: 0.8315\n",
      "Epoch 28/2000\n",
      "24/24 [==============================] - 0s 4ms/step - loss: 0.4059 - binary_accuracy: 0.8340 - val_loss: 0.3601 - val_binary_accuracy: 0.8371\n",
      "Epoch 29/2000\n",
      "24/24 [==============================] - 0s 4ms/step - loss: 0.4253 - binary_accuracy: 0.8101 - val_loss: 0.4154 - val_binary_accuracy: 0.8315\n",
      "Epoch 30/2000\n",
      "24/24 [==============================] - 0s 4ms/step - loss: 0.3951 - binary_accuracy: 0.8425 - val_loss: 0.3836 - val_binary_accuracy: 0.8539\n",
      "Epoch 31/2000\n",
      "24/24 [==============================] - 0s 4ms/step - loss: 0.4247 - binary_accuracy: 0.8200 - val_loss: 0.4411 - val_binary_accuracy: 0.8090\n",
      "Epoch 32/2000\n",
      "24/24 [==============================] - 0s 4ms/step - loss: 0.4068 - binary_accuracy: 0.8284 - val_loss: 0.4489 - val_binary_accuracy: 0.8371\n",
      "Epoch 33/2000\n",
      "24/24 [==============================] - 0s 4ms/step - loss: 0.4276 - binary_accuracy: 0.7989 - val_loss: 0.4436 - val_binary_accuracy: 0.8202\n",
      "Epoch 34/2000\n",
      "24/24 [==============================] - 0s 4ms/step - loss: 0.3936 - binary_accuracy: 0.8284 - val_loss: 0.3917 - val_binary_accuracy: 0.8315\n",
      "Epoch 35/2000\n",
      "24/24 [==============================] - 0s 4ms/step - loss: 0.4136 - binary_accuracy: 0.8242 - val_loss: 0.4169 - val_binary_accuracy: 0.8202\n",
      "Epoch 36/2000\n",
      "24/24 [==============================] - 0s 4ms/step - loss: 0.3722 - binary_accuracy: 0.8425 - val_loss: 0.4667 - val_binary_accuracy: 0.8090\n",
      "Epoch 37/2000\n",
      "24/24 [==============================] - 0s 4ms/step - loss: 0.3958 - binary_accuracy: 0.8284 - val_loss: 0.4544 - val_binary_accuracy: 0.8258\n",
      "Epoch 38/2000\n",
      "24/24 [==============================] - 0s 4ms/step - loss: 0.4038 - binary_accuracy: 0.8439 - val_loss: 0.4425 - val_binary_accuracy: 0.8202\n",
      "Epoch 39/2000\n",
      "24/24 [==============================] - 0s 4ms/step - loss: 0.3698 - binary_accuracy: 0.8481 - val_loss: 0.4255 - val_binary_accuracy: 0.8202\n",
      "Epoch 40/2000\n",
      "24/24 [==============================] - 0s 4ms/step - loss: 0.4067 - binary_accuracy: 0.8256 - val_loss: 0.4120 - val_binary_accuracy: 0.8258\n",
      "Epoch 41/2000\n",
      "24/24 [==============================] - 0s 4ms/step - loss: 0.4134 - binary_accuracy: 0.8326 - val_loss: 0.4541 - val_binary_accuracy: 0.8371\n",
      "Epoch 42/2000\n",
      "24/24 [==============================] - 0s 4ms/step - loss: 0.4081 - binary_accuracy: 0.8270 - val_loss: 0.4847 - val_binary_accuracy: 0.8315\n",
      "Epoch 43/2000\n",
      "24/24 [==============================] - 0s 4ms/step - loss: 0.3779 - binary_accuracy: 0.8326 - val_loss: 0.4199 - val_binary_accuracy: 0.8315\n",
      "Epoch 44/2000\n",
      "24/24 [==============================] - 0s 4ms/step - loss: 0.3752 - binary_accuracy: 0.8425 - val_loss: 0.4272 - val_binary_accuracy: 0.8202\n",
      "Epoch 45/2000\n",
      "24/24 [==============================] - 0s 4ms/step - loss: 0.3842 - binary_accuracy: 0.8411 - val_loss: 0.4478 - val_binary_accuracy: 0.8258\n",
      "Epoch 46/2000\n",
      "24/24 [==============================] - 0s 4ms/step - loss: 0.3900 - binary_accuracy: 0.8270 - val_loss: 0.4113 - val_binary_accuracy: 0.8090\n",
      "Epoch 47/2000\n",
      "24/24 [==============================] - 0s 4ms/step - loss: 0.3843 - binary_accuracy: 0.8298 - val_loss: 0.4407 - val_binary_accuracy: 0.8258\n",
      "Epoch 48/2000\n",
      "24/24 [==============================] - 0s 4ms/step - loss: 0.3894 - binary_accuracy: 0.8256 - val_loss: 0.4236 - val_binary_accuracy: 0.8371\n"
     ]
    }
   ],
   "source": [
    "his = model.fit(x_train, y_train,validation_data =(x_test, y_test) ,callbacks =(early_stop),batch_size = 30, epochs = 2000)"
   ]
  },
  {
   "cell_type": "code",
   "execution_count": 26,
   "metadata": {
    "execution": {
     "iopub.execute_input": "2021-08-18T16:52:13.590244Z",
     "iopub.status.busy": "2021-08-18T16:52:13.589600Z",
     "iopub.status.idle": "2021-08-18T16:52:13.744115Z",
     "shell.execute_reply": "2021-08-18T16:52:13.743625Z",
     "shell.execute_reply.started": "2021-08-18T16:50:43.818323Z"
    },
    "papermill": {
     "duration": 0.235714,
     "end_time": "2021-08-18T16:52:13.744236",
     "exception": false,
     "start_time": "2021-08-18T16:52:13.508522",
     "status": "completed"
    },
    "tags": []
   },
   "outputs": [
    {
     "name": "stdout",
     "output_type": "stream",
     "text": [
      "min_loss = 0.3698279857635498\n",
      "min_val_loss = 0.3600651025772095\n",
      "max_accuracy 63.01720142364502\n",
      "max_val_accuracy 63.99348974227905\n"
     ]
    },
    {
     "data": {
      "image/png": "[encoded data removed]",
      "text/plain": [
       "<Figure size 432x288 with 1 Axes>"
      ]
     },
     "metadata": {
      "needs_background": "light"
     },
     "output_type": "display_data"
    }
   ],
   "source": [
    "h = pd.DataFrame(his.history)\n",
    "h.loc[:, ['loss','val_loss']].plot()\n",
    "print(\"min_loss =\", h.loss.min())\n",
    "print(\"min_val_loss =\",h.val_loss.min())\n",
    "print(\"max_accuracy\",(1-h.loss.min())*100)\n",
    "print(\"max_val_accuracy\",(1-h.val_loss.min())*100)"
   ]
  },
  {
   "cell_type": "code",
   "execution_count": 27,
   "metadata": {
    "execution": {
     "iopub.execute_input": "2021-08-18T16:52:13.890901Z",
     "iopub.status.busy": "2021-08-18T16:52:13.890240Z",
     "iopub.status.idle": "2021-08-18T16:52:14.082191Z",
     "shell.execute_reply": "2021-08-18T16:52:14.082696Z",
     "shell.execute_reply.started": "2021-08-18T16:51:11.793101Z"
    },
    "papermill": {
     "duration": 0.267751,
     "end_time": "2021-08-18T16:52:14.082886",
     "exception": false,
     "start_time": "2021-08-18T16:52:13.815135",
     "status": "completed"
    },
    "tags": []
   },
   "outputs": [],
   "source": [
    "out_ = model.predict(test1)"
   ]
  },
  {
   "cell_type": "code",
   "execution_count": 28,
   "metadata": {
    "execution": {
     "iopub.execute_input": "2021-08-18T16:52:14.228463Z",
     "iopub.status.busy": "2021-08-18T16:52:14.227857Z",
     "iopub.status.idle": "2021-08-18T16:52:14.232963Z",
     "shell.execute_reply": "2021-08-18T16:52:14.232385Z",
     "shell.execute_reply.started": "2021-08-18T16:51:13.840592Z"
    },
    "papermill": {
     "duration": 0.079141,
     "end_time": "2021-08-18T16:52:14.233093",
     "exception": false,
     "start_time": "2021-08-18T16:52:14.153952",
     "status": "completed"
    },
    "tags": []
   },
   "outputs": [],
   "source": [
    "out_ = out_ > 0.5\n",
    "t = out_.reshape(418,)"
   ]
  },
  {
   "cell_type": "code",
   "execution_count": 29,
   "metadata": {
    "execution": {
     "iopub.execute_input": "2021-08-18T16:52:14.382116Z",
     "iopub.status.busy": "2021-08-18T16:52:14.381491Z",
     "iopub.status.idle": "2021-08-18T16:52:14.387862Z",
     "shell.execute_reply": "2021-08-18T16:52:14.387339Z",
     "shell.execute_reply.started": "2021-08-18T16:51:15.878546Z"
    },
    "papermill": {
     "duration": 0.084215,
     "end_time": "2021-08-18T16:52:14.387977",
     "exception": false,
     "start_time": "2021-08-18T16:52:14.303762",
     "status": "completed"
    },
    "tags": []
   },
   "outputs": [
    {
     "data": {
      "text/plain": [
       "dtype('int32')"
      ]
     },
     "execution_count": 29,
     "metadata": {},
     "output_type": "execute_result"
    }
   ],
   "source": [
    "output = pd.DataFrame({'PassengerId':testindex.astype(\"int32\"),\n",
    "                        'Survived':t.astype('int32')},\n",
    "                   )\n",
    "output.PassengerId.dtype"
   ]
  },
  {
   "cell_type": "code",
   "execution_count": 30,
   "metadata": {
    "execution": {
     "iopub.execute_input": "2021-08-18T16:52:14.538631Z",
     "iopub.status.busy": "2021-08-18T16:52:14.537923Z",
     "iopub.status.idle": "2021-08-18T16:52:14.542707Z",
     "shell.execute_reply": "2021-08-18T16:52:14.541989Z",
     "shell.execute_reply.started": "2021-08-18T16:51:17.315657Z"
    },
    "papermill": {
     "duration": 0.0827,
     "end_time": "2021-08-18T16:52:14.542874",
     "exception": false,
     "start_time": "2021-08-18T16:52:14.460174",
     "status": "completed"
    },
    "tags": []
   },
   "outputs": [
    {
     "data": {
      "text/plain": [
       "dtype('int32')"
      ]
     },
     "execution_count": 30,
     "metadata": {},
     "output_type": "execute_result"
    }
   ],
   "source": [
    "output.Survived.dtype"
   ]
  },
  {
   "cell_type": "code",
   "execution_count": 31,
   "metadata": {
    "execution": {
     "iopub.execute_input": "2021-08-18T16:52:14.689423Z",
     "iopub.status.busy": "2021-08-18T16:52:14.688849Z",
     "iopub.status.idle": "2021-08-18T16:52:14.695663Z",
     "shell.execute_reply": "2021-08-18T16:52:14.696215Z",
     "shell.execute_reply.started": "2021-08-18T16:51:21.093913Z"
    },
    "papermill": {
     "duration": 0.081651,
     "end_time": "2021-08-18T16:52:14.696368",
     "exception": false,
     "start_time": "2021-08-18T16:52:14.614717",
     "status": "completed"
    },
    "tags": []
   },
   "outputs": [
    {
     "data": {
      "text/plain": [
       "0    240\n",
       "1    178\n",
       "Name: Survived, dtype: int64"
      ]
     },
     "execution_count": 31,
     "metadata": {},
     "output_type": "execute_result"
    }
   ],
   "source": [
    "output.Survived.value_counts()"
   ]
  },
  {
   "cell_type": "code",
   "execution_count": 32,
   "metadata": {
    "execution": {
     "iopub.execute_input": "2021-08-18T16:52:14.843693Z",
     "iopub.status.busy": "2021-08-18T16:52:14.843136Z",
     "iopub.status.idle": "2021-08-18T16:52:15.015672Z",
     "shell.execute_reply": "2021-08-18T16:52:15.015119Z",
     "shell.execute_reply.started": "2021-08-18T16:51:32.011095Z"
    },
    "papermill": {
     "duration": 0.246769,
     "end_time": "2021-08-18T16:52:15.015814",
     "exception": false,
     "start_time": "2021-08-18T16:52:14.769045",
     "status": "completed"
    },
    "tags": []
   },
   "outputs": [],
   "source": [
    "output.to_csv('submission1_13.csv',index = False)"
   ]
  },
  {
   "cell_type": "code",
   "execution_count": null,
   "metadata": {
    "papermill": {
     "duration": 0.071931,
     "end_time": "2021-08-18T16:52:15.159488",
     "exception": false,
     "start_time": "2021-08-18T16:52:15.087557",
     "status": "completed"
    },
    "tags": []
   },
   "outputs": [],
   "source": []
  }
 ],
 "metadata": {
  "kernelspec": {
   "display_name": "Python 3",
   "language": "python",
   "name": "python3"
  },
  "language_info": {
   "codemirror_mode": {
    "name": "ipython",
    "version": 3
   },
   "file_extension": ".py",
   "mimetype": "text/x-python",
   "name": "python",
   "nbconvert_exporter": "python",
   "pygments_lexer": "ipython3",
   "version": "3.7.6"
  },
  "papermill": {
   "duration": 27.505946,
   "end_time": "2021-08-18T16:52:15.339742",
   "environment_variables": {},
   "exception": null,
   "input_path": "__notebook__.ipynb",
   "output_path": "__notebook__.ipynb",
   "parameters": {},
   "start_time": "2021-08-18T16:51:47.833796",
   "version": "2.1.0"
  }
 },
 "nbformat": 4,
 "nbformat_minor": 4
}
