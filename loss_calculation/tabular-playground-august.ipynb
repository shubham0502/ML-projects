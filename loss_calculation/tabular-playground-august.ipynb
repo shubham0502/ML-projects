{
 "cells": [
  {
   "cell_type": "code",
   "execution_count": 1,
   "id": "f1406765",
   "metadata": {
    "_cell_guid": "b1076dfc-b9ad-4769-8c92-a6c4dae69d19",
    "_uuid": "8f2839f25d086af736a60e9eeb907d3b93b6e0e5",
    "execution": {
     "iopub.execute_input": "2021-08-11T10:52:55.200526Z",
     "iopub.status.busy": "2021-08-11T10:52:55.193907Z",
     "iopub.status.idle": "2021-08-11T10:53:01.462152Z",
     "shell.execute_reply": "2021-08-11T10:53:01.462718Z",
     "shell.execute_reply.started": "2021-08-11T10:34:09.985877Z"
    },
    "papermill": {
     "duration": 6.367802,
     "end_time": "2021-08-11T10:53:01.463020",
     "exception": false,
     "start_time": "2021-08-11T10:52:55.095218",
     "status": "completed"
    },
    "tags": []
   },
   "outputs": [
    {
     "name": "stdout",
     "output_type": "stream",
     "text": [
      "/kaggle/input/tabular-playground-series-aug-2021/sample_submission.csv\n",
      "/kaggle/input/tabular-playground-series-aug-2021/train.csv\n",
      "/kaggle/input/tabular-playground-series-aug-2021/test.csv\n"
     ]
    }
   ],
   "source": [
    "# This Python 3 environment comes with many helpful analytics libraries installed\n",
    "# It is defined by the kaggle/python Docker image: https://github.com/kaggle/docker-python\n",
    "# For example, here's several helpful packages to load\n",
    "\n",
    "import numpy as np # linear algebra\n",
    "import pandas as pd # data processing, CSV file I/O (e.g. pd.read_csv)\n",
    "import matplotlib.pyplot as plt\n",
    "import tensorflow\n",
    "from tensorflow import keras\n",
    "from tensorflow.keras import layers, callbacks\n",
    "from sklearn.metrics import mean_absolute_error, mean_squared_error\n",
    "from sklearn.compose import ColumnTransformer\n",
    "from sklearn.pipeline import Pipeline\n",
    "from sklearn.impute import SimpleImputer\n",
    "from sklearn.ensemble import RandomForestRegressor\n",
    "from xgboost import XGBRegressor\n",
    "from sklearn.preprocessing import MinMaxScaler,StandardScaler\n",
    "from sklearn.model_selection import train_test_split, cross_val_score\n",
    "\n",
    "# Input data files are available in the read-only \"../input/\" directory\n",
    "# For example, running this (by clicking run or pressing Shift+Enter) will list all files under the input directory\n",
    "\n",
    "import os\n",
    "for dirname, _, filenames in os.walk('/kaggle/input'):\n",
    "    for filename in filenames:\n",
    "        print(os.path.join(dirname, filename))\n",
    "\n",
    "# You can write up to 20GB to the current directory (/kaggle/working/) that gets preserved as output when you create a version using \"Save & Run All\" \n",
    "# You can also write temporary files to /kaggle/temp/, but they won't be saved outside of the current session"
   ]
  },
  {
   "cell_type": "code",
   "execution_count": 2,
   "id": "03138ae1",
   "metadata": {
    "execution": {
     "iopub.execute_input": "2021-08-11T10:53:01.500013Z",
     "iopub.status.busy": "2021-08-11T10:53:01.499150Z",
     "iopub.status.idle": "2021-08-11T10:53:11.685078Z",
     "shell.execute_reply": "2021-08-11T10:53:11.684269Z",
     "shell.execute_reply.started": "2021-08-11T10:34:33.441994Z"
    },
    "papermill": {
     "duration": 10.206014,
     "end_time": "2021-08-11T10:53:11.685253",
     "exception": false,
     "start_time": "2021-08-11T10:53:01.479239",
     "status": "completed"
    },
    "tags": []
   },
   "outputs": [],
   "source": [
    "data_1 = pd.read_csv(\"../input/tabular-playground-series-aug-2021/train.csv\")\n",
    "data_2 = pd.read_csv(\"../input/tabular-playground-series-aug-2021/test.csv\")"
   ]
  },
  {
   "cell_type": "code",
   "execution_count": 3,
   "id": "14c3691d",
   "metadata": {
    "execution": {
     "iopub.execute_input": "2021-08-11T10:53:11.757079Z",
     "iopub.status.busy": "2021-08-11T10:53:11.733581Z",
     "iopub.status.idle": "2021-08-11T10:53:11.768715Z",
     "shell.execute_reply": "2021-08-11T10:53:11.768144Z",
     "shell.execute_reply.started": "2021-08-11T10:34:40.422338Z"
    },
    "papermill": {
     "duration": 0.068093,
     "end_time": "2021-08-11T10:53:11.768895",
     "exception": false,
     "start_time": "2021-08-11T10:53:11.700802",
     "status": "completed"
    },
    "tags": []
   },
   "outputs": [
    {
     "name": "stdout",
     "output_type": "stream",
     "text": [
      "<class 'pandas.core.frame.DataFrame'>\n",
      "RangeIndex: 250000 entries, 0 to 249999\n",
      "Columns: 102 entries, id to loss\n",
      "dtypes: float64(95), int64(7)\n",
      "memory usage: 194.5 MB\n",
      "<class 'pandas.core.frame.DataFrame'>\n",
      "RangeIndex: 150000 entries, 0 to 149999\n",
      "Columns: 101 entries, id to f99\n",
      "dtypes: float64(95), int64(6)\n",
      "memory usage: 115.6 MB\n",
      "None None\n"
     ]
    }
   ],
   "source": [
    "print(data_1.info(),data_2.info())"
   ]
  },
  {
   "cell_type": "code",
   "execution_count": 4,
   "id": "35bce9c2",
   "metadata": {
    "execution": {
     "iopub.execute_input": "2021-08-11T10:53:11.805941Z",
     "iopub.status.busy": "2021-08-11T10:53:11.804321Z",
     "iopub.status.idle": "2021-08-11T10:53:11.812709Z",
     "shell.execute_reply": "2021-08-11T10:53:11.812148Z",
     "shell.execute_reply.started": "2021-08-11T10:34:40.451161Z"
    },
    "papermill": {
     "duration": 0.028924,
     "end_time": "2021-08-11T10:53:11.812849",
     "exception": false,
     "start_time": "2021-08-11T10:53:11.783925",
     "status": "completed"
    },
    "tags": []
   },
   "outputs": [],
   "source": [
    "id_1 = data_1.pop('id')\n",
    "id_2 = data_2.pop('id')"
   ]
  },
  {
   "cell_type": "code",
   "execution_count": 5,
   "id": "cfee95cb",
   "metadata": {
    "execution": {
     "iopub.execute_input": "2021-08-11T10:53:11.926656Z",
     "iopub.status.busy": "2021-08-11T10:53:11.925627Z",
     "iopub.status.idle": "2021-08-11T10:53:12.152925Z",
     "shell.execute_reply": "2021-08-11T10:53:12.152394Z",
     "shell.execute_reply.started": "2021-08-11T10:34:40.464414Z"
    },
    "papermill": {
     "duration": 0.325185,
     "end_time": "2021-08-11T10:53:12.153069",
     "exception": false,
     "start_time": "2021-08-11T10:53:11.827884",
     "status": "completed"
    },
    "tags": []
   },
   "outputs": [],
   "source": [
    "train_x, val_x, train_y, val_y = train_test_split(data_1.drop('loss', axis =1), data_1.loss, test_size = 0.3, random_state = 1)"
   ]
  },
  {
   "cell_type": "code",
   "execution_count": 6,
   "id": "6ffa358e",
   "metadata": {
    "execution": {
     "iopub.execute_input": "2021-08-11T10:53:12.193530Z",
     "iopub.status.busy": "2021-08-11T10:53:12.192078Z",
     "iopub.status.idle": "2021-08-11T10:53:13.438219Z",
     "shell.execute_reply": "2021-08-11T10:53:13.437507Z",
     "shell.execute_reply.started": "2021-08-11T10:34:40.748420Z"
    },
    "papermill": {
     "duration": 1.269204,
     "end_time": "2021-08-11T10:53:13.438362",
     "exception": false,
     "start_time": "2021-08-11T10:53:12.169158",
     "status": "completed"
    },
    "tags": []
   },
   "outputs": [],
   "source": [
    "scale = StandardScaler()\n",
    "x = pd.DataFrame(scale.fit_transform(train_x))\n",
    "v_x = pd.DataFrame(scale.fit_transform(val_x))\n",
    "d = pd.DataFrame(scale.fit_transform(data_2))\n",
    "#x.hist(figsize = (40,30))\n"
   ]
  },
  {
   "cell_type": "code",
   "execution_count": 7,
   "id": "585b6d7c",
   "metadata": {
    "execution": {
     "iopub.execute_input": "2021-08-11T10:53:13.475789Z",
     "iopub.status.busy": "2021-08-11T10:53:13.473570Z",
     "iopub.status.idle": "2021-08-11T10:53:13.476744Z",
     "shell.execute_reply": "2021-08-11T10:53:13.477287Z",
     "shell.execute_reply.started": "2021-08-11T10:34:56.376213Z"
    },
    "papermill": {
     "duration": 0.023309,
     "end_time": "2021-08-11T10:53:13.477463",
     "exception": false,
     "start_time": "2021-08-11T10:53:13.454154",
     "status": "completed"
    },
    "tags": []
   },
   "outputs": [],
   "source": [
    "#model_1 = RandomForestRegressor(n_estimators = 5, random_state = 1)\n",
    "#model_1.fit(x, train_y)\n",
    "#pred = model_1.predict(v_x)\n",
    "#mae = mean_squared_error(pred, val_y)\n",
    "#np.sqrt(mae)"
   ]
  },
  {
   "cell_type": "code",
   "execution_count": 8,
   "id": "0b5a8e6e",
   "metadata": {
    "execution": {
     "iopub.execute_input": "2021-08-11T10:53:13.514444Z",
     "iopub.status.busy": "2021-08-11T10:53:13.512238Z",
     "iopub.status.idle": "2021-08-11T10:53:13.515392Z",
     "shell.execute_reply": "2021-08-11T10:53:13.515935Z",
     "shell.execute_reply.started": "2021-08-11T10:34:57.336003Z"
    },
    "papermill": {
     "duration": 0.023144,
     "end_time": "2021-08-11T10:53:13.516080",
     "exception": false,
     "start_time": "2021-08-11T10:53:13.492936",
     "status": "completed"
    },
    "tags": []
   },
   "outputs": [],
   "source": [
    "#model_2 = XGBRegressor(n_estimators = 100, random_state = 1)\n",
    "#model_2.fit(x, train_y)\n",
    "#y = model_2.predict(v_x)\n",
    "#mae = mean_squared_error(y, val_y)\n",
    "#"
   ]
  },
  {
   "cell_type": "code",
   "execution_count": 9,
   "id": "c6d1f4c9",
   "metadata": {
    "execution": {
     "iopub.execute_input": "2021-08-11T10:53:13.555383Z",
     "iopub.status.busy": "2021-08-11T10:53:13.554535Z",
     "iopub.status.idle": "2021-08-11T10:53:16.004033Z",
     "shell.execute_reply": "2021-08-11T10:53:16.003053Z",
     "shell.execute_reply.started": "2021-08-11T10:48:38.584766Z"
    },
    "papermill": {
     "duration": 2.472645,
     "end_time": "2021-08-11T10:53:16.004231",
     "exception": false,
     "start_time": "2021-08-11T10:53:13.531586",
     "status": "completed"
    },
    "tags": []
   },
   "outputs": [],
   "source": [
    "model_3 = keras.Sequential([layers.BatchNormalization(),\n",
    "    layers.InputLayer([train_x.shape[1]]),\n",
    "    layers.BatchNormalization(),\n",
    "    layers.Dense(256, activation = 'relu'),\n",
    "    layers.Dropout(0.5),\n",
    "    layers.BatchNormalization(),\n",
    "    layers.Dense(512, activation = 'relu'),\n",
    "    layers.BatchNormalization(),\n",
    "    layers.Dense(512, activation = 'relu'),\n",
    "    layers.Dropout(0.4),\n",
    "    layers.BatchNormalization(),\n",
    "    layers.Dense(512, activation = 'relu'),\n",
    "    layers.Dropout(0.5),\n",
    "    layers.BatchNormalization(),\n",
    "    layers.Dense(512, activation = 'relu'),\n",
    "    layers.BatchNormalization(),\n",
    "    layers.Dropout(0.4),\n",
    "    layers.Dense(512, activation = 'relu'),\n",
    "    layers.BatchNormalization(),\n",
    "    layers.Dense(1, activation = 'linear'),\n",
    "])"
   ]
  },
  {
   "cell_type": "code",
   "execution_count": 10,
   "id": "e142e740",
   "metadata": {
    "execution": {
     "iopub.execute_input": "2021-08-11T10:53:16.048950Z",
     "iopub.status.busy": "2021-08-11T10:53:16.048114Z",
     "iopub.status.idle": "2021-08-11T10:53:16.219160Z",
     "shell.execute_reply": "2021-08-11T10:53:16.218496Z",
     "shell.execute_reply.started": "2021-08-11T10:48:39.596990Z"
    },
    "papermill": {
     "duration": 0.199573,
     "end_time": "2021-08-11T10:53:16.219317",
     "exception": false,
     "start_time": "2021-08-11T10:53:16.019744",
     "status": "completed"
    },
    "tags": []
   },
   "outputs": [],
   "source": [
    "model_3.compile( loss = 'mse', \n",
    "             optimizer = keras.optimizers.Adam())\n",
    "call = callbacks.EarlyStopping(patience = 10, min_delta = 0.001, restore_best_weights = True)"
   ]
  },
  {
   "cell_type": "code",
   "execution_count": 11,
   "id": "25f26ad2",
   "metadata": {
    "execution": {
     "iopub.execute_input": "2021-08-11T10:53:16.257386Z",
     "iopub.status.busy": "2021-08-11T10:53:16.256619Z",
     "iopub.status.idle": "2021-08-11T10:56:38.398081Z",
     "shell.execute_reply": "2021-08-11T10:56:38.397513Z",
     "shell.execute_reply.started": "2021-08-11T10:48:40.955571Z"
    },
    "papermill": {
     "duration": 202.162992,
     "end_time": "2021-08-11T10:56:38.398233",
     "exception": false,
     "start_time": "2021-08-11T10:53:16.235241",
     "status": "completed"
    },
    "tags": []
   },
   "outputs": [
    {
     "name": "stdout",
     "output_type": "stream",
     "text": [
      "Epoch 1/100\n",
      "958/958 [==============================] - 14s 10ms/step - loss: 79.2853 - val_loss: 62.8031\n",
      "Epoch 2/100\n",
      "958/958 [==============================] - 9s 9ms/step - loss: 64.3846 - val_loss: 62.6180\n",
      "Epoch 3/100\n",
      "958/958 [==============================] - 9s 10ms/step - loss: 63.4375 - val_loss: 62.8077\n",
      "Epoch 4/100\n",
      "958/958 [==============================] - 10s 10ms/step - loss: 62.7153 - val_loss: 62.7023\n",
      "Epoch 5/100\n",
      "958/958 [==============================] - 9s 9ms/step - loss: 62.6066 - val_loss: 62.3677\n",
      "Epoch 6/100\n",
      "958/958 [==============================] - 9s 10ms/step - loss: 63.0509 - val_loss: 62.3282\n",
      "Epoch 7/100\n",
      "958/958 [==============================] - 9s 10ms/step - loss: 61.9648 - val_loss: 62.2920\n",
      "Epoch 8/100\n",
      "958/958 [==============================] - 10s 10ms/step - loss: 61.8929 - val_loss: 62.3875\n",
      "Epoch 9/100\n",
      "958/958 [==============================] - 9s 10ms/step - loss: 62.4963 - val_loss: 62.1947\n",
      "Epoch 10/100\n",
      "958/958 [==============================] - 10s 10ms/step - loss: 62.4059 - val_loss: 62.2697\n",
      "Epoch 11/100\n",
      "958/958 [==============================] - 9s 9ms/step - loss: 62.3288 - val_loss: 62.1551\n",
      "Epoch 12/100\n",
      "958/958 [==============================] - 9s 10ms/step - loss: 62.2826 - val_loss: 62.2720\n",
      "Epoch 13/100\n",
      "958/958 [==============================] - 10s 10ms/step - loss: 61.7086 - val_loss: 62.2020\n",
      "Epoch 14/100\n",
      "958/958 [==============================] - 9s 9ms/step - loss: 62.1218 - val_loss: 62.5128\n",
      "Epoch 15/100\n",
      "958/958 [==============================] - 10s 10ms/step - loss: 61.5138 - val_loss: 62.3644\n",
      "Epoch 16/100\n",
      "958/958 [==============================] - 9s 9ms/step - loss: 61.7388 - val_loss: 62.3934\n",
      "Epoch 17/100\n",
      "958/958 [==============================] - 10s 10ms/step - loss: 61.4116 - val_loss: 62.8076\n",
      "Epoch 18/100\n",
      "958/958 [==============================] - 9s 9ms/step - loss: 61.2493 - val_loss: 62.3748\n",
      "Epoch 19/100\n",
      "958/958 [==============================] - 9s 10ms/step - loss: 61.3176 - val_loss: 62.5729\n",
      "Epoch 20/100\n",
      "958/958 [==============================] - 10s 10ms/step - loss: 59.8988 - val_loss: 62.5503\n",
      "Epoch 21/100\n",
      "958/958 [==============================] - 9s 9ms/step - loss: 60.2802 - val_loss: 62.5634\n"
     ]
    }
   ],
   "source": [
    "h = model_3.fit(x, train_y, validation_split = 0.3, epochs = 100, batch_size = 128, callbacks = [call])"
   ]
  },
  {
   "cell_type": "code",
   "execution_count": 12,
   "id": "a34395dc",
   "metadata": {
    "execution": {
     "iopub.execute_input": "2021-08-11T10:56:40.623033Z",
     "iopub.status.busy": "2021-08-11T10:56:40.622197Z",
     "iopub.status.idle": "2021-08-11T10:56:40.904838Z",
     "shell.execute_reply": "2021-08-11T10:56:40.905429Z",
     "shell.execute_reply.started": "2021-08-11T10:51:31.033572Z"
    },
    "papermill": {
     "duration": 1.38564,
     "end_time": "2021-08-11T10:56:40.905638",
     "exception": false,
     "start_time": "2021-08-11T10:56:39.519998",
     "status": "completed"
    },
    "tags": []
   },
   "outputs": [
    {
     "name": "stdout",
     "output_type": "stream",
     "text": [
      "7.783425635934794 7.883848033444907\n"
     ]
    },
    {
     "data": {
      "image/png": "[encoded data removed]",
      "text/plain": [
       "<Figure size 864x432 with 1 Axes>"
      ]
     },
     "metadata": {
      "needs_background": "light"
     },
     "output_type": "display_data"
    }
   ],
   "source": [
    "out = pd.DataFrame(h.history)\n",
    "out.plot(kind = 'line', figsize = (12,6))\n",
    "print(np.sqrt(out.loss.min()), np.sqrt(out.val_loss.min()))"
   ]
  },
  {
   "cell_type": "code",
   "execution_count": 13,
   "id": "2268dca4",
   "metadata": {
    "execution": {
     "iopub.execute_input": "2021-08-11T10:56:43.124702Z",
     "iopub.status.busy": "2021-08-11T10:56:43.123695Z",
     "iopub.status.idle": "2021-08-11T10:56:47.352332Z",
     "shell.execute_reply": "2021-08-11T10:56:47.353281Z",
     "shell.execute_reply.started": "2021-08-11T10:51:37.546140Z"
    },
    "papermill": {
     "duration": 5.344362,
     "end_time": "2021-08-11T10:56:47.353585",
     "exception": false,
     "start_time": "2021-08-11T10:56:42.009223",
     "status": "completed"
    },
    "tags": []
   },
   "outputs": [
    {
     "name": "stdout",
     "output_type": "stream",
     "text": [
      "7.899515820795636\n",
      "[[6.1365447]\n",
      " [5.9811835]\n",
      " [6.420522 ]\n",
      " ...\n",
      " [8.958486 ]\n",
      " [5.394589 ]\n",
      " [8.169415 ]]\n"
     ]
    }
   ],
   "source": [
    "valid = model_3.predict(v_x)\n",
    "error = mean_squared_error(valid, val_y)\n",
    "print(np.sqrt(error))\n",
    "print(valid)"
   ]
  },
  {
   "cell_type": "code",
   "execution_count": 14,
   "id": "326e3a73",
   "metadata": {
    "execution": {
     "iopub.execute_input": "2021-08-11T10:56:49.769689Z",
     "iopub.status.busy": "2021-08-11T10:56:49.768626Z",
     "iopub.status.idle": "2021-08-11T10:56:57.055902Z",
     "shell.execute_reply": "2021-08-11T10:56:57.054752Z",
     "shell.execute_reply.started": "2021-08-11T10:52:12.136330Z"
    },
    "papermill": {
     "duration": 8.418875,
     "end_time": "2021-08-11T10:56:57.056052",
     "exception": false,
     "start_time": "2021-08-11T10:56:48.637177",
     "status": "completed"
    },
    "tags": []
   },
   "outputs": [],
   "source": [
    "ans = model_3.predict(d)\n",
    "output = pd.read_csv(\"../input/tabular-playground-series-aug-2021/sample_submission.csv\")\n",
    "output['loss'] = ans\n",
    "output.to_csv('Submission_9', index = False)"
   ]
  },
  {
   "cell_type": "code",
   "execution_count": 15,
   "id": "4bfc176a",
   "metadata": {
    "execution": {
     "iopub.execute_input": "2021-08-11T10:56:59.633711Z",
     "iopub.status.busy": "2021-08-11T10:56:59.632700Z",
     "iopub.status.idle": "2021-08-11T10:56:59.637267Z",
     "shell.execute_reply": "2021-08-11T10:56:59.637788Z",
     "shell.execute_reply.started": "2021-08-11T10:52:18.118676Z"
    },
    "papermill": {
     "duration": 1.314906,
     "end_time": "2021-08-11T10:56:59.637983",
     "exception": false,
     "start_time": "2021-08-11T10:56:58.323077",
     "status": "completed"
    },
    "tags": []
   },
   "outputs": [
    {
     "data": {
      "text/plain": [
       "0    6.508667\n",
       "1    6.093718\n",
       "2    7.166729\n",
       "3    6.590701\n",
       "4    6.709195\n",
       "Name: loss, dtype: float32"
      ]
     },
     "execution_count": 15,
     "metadata": {},
     "output_type": "execute_result"
    }
   ],
   "source": [
    "output.loss.head()"
   ]
  },
  {
   "cell_type": "code",
   "execution_count": null,
   "id": "02269360",
   "metadata": {
    "papermill": {
     "duration": 1.114704,
     "end_time": "2021-08-11T10:57:01.857414",
     "exception": false,
     "start_time": "2021-08-11T10:57:00.742710",
     "status": "completed"
    },
    "tags": []
   },
   "outputs": [],
   "source": []
  }
 ],
 "metadata": {
  "kernelspec": {
   "display_name": "Python 3",
   "language": "python",
   "name": "python3"
  },
  "language_info": {
   "codemirror_mode": {
    "name": "ipython",
    "version": 3
   },
   "file_extension": ".py",
   "mimetype": "text/x-python",
   "name": "python",
   "nbconvert_exporter": "python",
   "pygments_lexer": "ipython3",
   "version": "3.7.10"
  },
  "papermill": {
   "default_parameters": {},
   "duration": 258.061276,
   "end_time": "2021-08-11T10:57:04.788409",
   "environment_variables": {},
   "exception": null,
   "input_path": "__notebook__.ipynb",
   "output_path": "__notebook__.ipynb",
   "parameters": {},
   "start_time": "2021-08-11T10:52:46.727133",
   "version": "2.3.3"
  }
 },
 "nbformat": 4,
 "nbformat_minor": 5
}
