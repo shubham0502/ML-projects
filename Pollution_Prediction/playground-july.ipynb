{
 "cells": [
  {
   "cell_type": "code",
   "execution_count": 1,
   "id": "d8f3f0ad",
   "metadata": {
    "_cell_guid": "b1076dfc-b9ad-4769-8c92-a6c4dae69d19",
    "_uuid": "8f2839f25d086af736a60e9eeb907d3b93b6e0e5",
    "execution": {
     "iopub.execute_input": "2021-08-09T10:49:43.123801Z",
     "iopub.status.busy": "2021-08-09T10:49:43.121989Z",
     "iopub.status.idle": "2021-08-09T10:49:51.791580Z",
     "shell.execute_reply": "2021-08-09T10:49:51.792350Z",
     "shell.execute_reply.started": "2021-08-09T09:53:21.084652Z"
    },
    "papermill": {
     "duration": 8.700084,
     "end_time": "2021-08-09T10:49:51.792724",
     "exception": false,
     "start_time": "2021-08-09T10:49:43.092640",
     "status": "completed"
    },
    "tags": []
   },
   "outputs": [
    {
     "name": "stdout",
     "output_type": "stream",
     "text": [
      "/kaggle/input/tabular-playground-series-jul-2021/sample_submission.csv\n",
      "/kaggle/input/tabular-playground-series-jul-2021/train.csv\n",
      "/kaggle/input/tabular-playground-series-jul-2021/test.csv\n"
     ]
    }
   ],
   "source": [
    "# This Python 3 environment comes with many helpful analytics libraries installed\n",
    "# It is defined by the kaggle/python Docker image: https://github.com/kaggle/docker-python\n",
    "# For example, here's several helpful packages to load\n",
    "\n",
    "import numpy as np # linear algebra\n",
    "import pandas as pd # data processing, CSV file I/O (e.g. pd.read_csv)\n",
    "import tensorflow \n",
    "import torch\n",
    "import matplotlib.pyplot as plt\n",
    "import seaborn as sns\n",
    "from tensorflow import keras \n",
    "from tensorflow.keras import layers, callbacks\n",
    "from torch import nn\n",
    "from sklearn.ensemble import RandomForestRegressor\n",
    "from sklearn.metrics import mean_squared_log_error\n",
    "from sklearn.model_selection import train_test_split, cross_val_score\n",
    "from sklearn.preprocessing import MinMaxScaler,RobustScaler\n",
    "from xgboost import XGBRFRegressor\n",
    "from scipy import stats\n",
    "\n",
    "# Input data files are available in the read-only \"../input/\" directory\n",
    "# For example, running this (by clicking run or pressing Shift+Enter) will list all files under the input directory\n",
    "\n",
    "import os\n",
    "for dirname, _, filenames in os.walk('/kaggle/input'):\n",
    "    for filename in filenames:\n",
    "        print(os.path.join(dirname, filename))\n",
    "\n",
    "# You can write up to 20GB to the current directory (/kaggle/working/) that gets preserved as output when you create a version using \"Save & Run All\" \n",
    "# You can also write temporary files to /kaggle/temp/, but they won't be saved outside of the current session"
   ]
  },
  {
   "cell_type": "code",
   "execution_count": 2,
   "id": "8c8bb46a",
   "metadata": {
    "execution": {
     "iopub.execute_input": "2021-08-09T10:49:51.841717Z",
     "iopub.status.busy": "2021-08-09T10:49:51.841082Z",
     "iopub.status.idle": "2021-08-09T10:49:51.899024Z",
     "shell.execute_reply": "2021-08-09T10:49:51.899523Z",
     "shell.execute_reply.started": "2021-08-09T09:55:49.226304Z"
    },
    "papermill": {
     "duration": 0.083232,
     "end_time": "2021-08-09T10:49:51.899704",
     "exception": false,
     "start_time": "2021-08-09T10:49:51.816472",
     "status": "completed"
    },
    "tags": []
   },
   "outputs": [],
   "source": [
    "from datetime import datetime\n",
    "data_1 = pd.read_csv('../input/tabular-playground-series-jul-2021/train.csv')\n",
    "data_2 = pd.read_csv('../input/tabular-playground-series-jul-2021/test.csv')"
   ]
  },
  {
   "cell_type": "code",
   "execution_count": 3,
   "id": "f8673b99",
   "metadata": {
    "execution": {
     "iopub.execute_input": "2021-08-09T10:49:51.948622Z",
     "iopub.status.busy": "2021-08-09T10:49:51.947946Z",
     "iopub.status.idle": "2021-08-09T10:49:51.986129Z",
     "shell.execute_reply": "2021-08-09T10:49:51.986583Z",
     "shell.execute_reply.started": "2021-08-09T09:55:50.377749Z"
    },
    "papermill": {
     "duration": 0.064404,
     "end_time": "2021-08-09T10:49:51.986755",
     "exception": false,
     "start_time": "2021-08-09T10:49:51.922351",
     "status": "completed"
    },
    "tags": []
   },
   "outputs": [
    {
     "data": {
      "text/html": [
       "<div>\n",
       "<style scoped>\n",
       "    .dataframe tbody tr th:only-of-type {\n",
       "        vertical-align: middle;\n",
       "    }\n",
       "\n",
       "    .dataframe tbody tr th {\n",
       "        vertical-align: top;\n",
       "    }\n",
       "\n",
       "    .dataframe thead th {\n",
       "        text-align: right;\n",
       "    }\n",
       "</style>\n",
       "<table border=\"1\" class=\"dataframe\">\n",
       "  <thead>\n",
       "    <tr style=\"text-align: right;\">\n",
       "      <th></th>\n",
       "      <th>date_time</th>\n",
       "      <th>deg_C</th>\n",
       "      <th>relative_humidity</th>\n",
       "      <th>absolute_humidity</th>\n",
       "      <th>sensor_1</th>\n",
       "      <th>sensor_2</th>\n",
       "      <th>sensor_3</th>\n",
       "      <th>sensor_4</th>\n",
       "      <th>sensor_5</th>\n",
       "    </tr>\n",
       "  </thead>\n",
       "  <tbody>\n",
       "    <tr>\n",
       "      <th>0</th>\n",
       "      <td>2010-03-10 18:00:00</td>\n",
       "      <td>13.1</td>\n",
       "      <td>46.0</td>\n",
       "      <td>0.7578</td>\n",
       "      <td>1387.2</td>\n",
       "      <td>1087.8</td>\n",
       "      <td>1056.0</td>\n",
       "      <td>1742.8</td>\n",
       "      <td>1293.4</td>\n",
       "    </tr>\n",
       "    <tr>\n",
       "      <th>1</th>\n",
       "      <td>2010-03-10 19:00:00</td>\n",
       "      <td>13.2</td>\n",
       "      <td>45.3</td>\n",
       "      <td>0.7255</td>\n",
       "      <td>1279.1</td>\n",
       "      <td>888.2</td>\n",
       "      <td>1197.5</td>\n",
       "      <td>1449.9</td>\n",
       "      <td>1010.9</td>\n",
       "    </tr>\n",
       "    <tr>\n",
       "      <th>2</th>\n",
       "      <td>2010-03-10 20:00:00</td>\n",
       "      <td>12.6</td>\n",
       "      <td>56.2</td>\n",
       "      <td>0.7502</td>\n",
       "      <td>1331.9</td>\n",
       "      <td>929.6</td>\n",
       "      <td>1060.2</td>\n",
       "      <td>1586.1</td>\n",
       "      <td>1117.0</td>\n",
       "    </tr>\n",
       "    <tr>\n",
       "      <th>3</th>\n",
       "      <td>2010-03-10 21:00:00</td>\n",
       "      <td>11.0</td>\n",
       "      <td>62.4</td>\n",
       "      <td>0.7867</td>\n",
       "      <td>1321.0</td>\n",
       "      <td>929.0</td>\n",
       "      <td>1102.9</td>\n",
       "      <td>1536.5</td>\n",
       "      <td>1263.2</td>\n",
       "    </tr>\n",
       "    <tr>\n",
       "      <th>4</th>\n",
       "      <td>2010-03-10 22:00:00</td>\n",
       "      <td>11.9</td>\n",
       "      <td>59.0</td>\n",
       "      <td>0.7888</td>\n",
       "      <td>1272.0</td>\n",
       "      <td>852.7</td>\n",
       "      <td>1180.9</td>\n",
       "      <td>1415.5</td>\n",
       "      <td>1132.2</td>\n",
       "    </tr>\n",
       "  </tbody>\n",
       "</table>\n",
       "</div>"
      ],
      "text/plain": [
       "             date_time  deg_C  relative_humidity  absolute_humidity  sensor_1  \\\n",
       "0  2010-03-10 18:00:00   13.1               46.0             0.7578    1387.2   \n",
       "1  2010-03-10 19:00:00   13.2               45.3             0.7255    1279.1   \n",
       "2  2010-03-10 20:00:00   12.6               56.2             0.7502    1331.9   \n",
       "3  2010-03-10 21:00:00   11.0               62.4             0.7867    1321.0   \n",
       "4  2010-03-10 22:00:00   11.9               59.0             0.7888    1272.0   \n",
       "\n",
       "   sensor_2  sensor_3  sensor_4  sensor_5  \n",
       "0    1087.8    1056.0    1742.8    1293.4  \n",
       "1     888.2    1197.5    1449.9    1010.9  \n",
       "2     929.6    1060.2    1586.1    1117.0  \n",
       "3     929.0    1102.9    1536.5    1263.2  \n",
       "4     852.7    1180.9    1415.5    1132.2  "
      ]
     },
     "execution_count": 3,
     "metadata": {},
     "output_type": "execute_result"
    }
   ],
   "source": [
    "target = data_1.iloc[:,data_1.columns.str.contains('target')]\n",
    "y = target.copy()\n",
    "x = data_1.drop(y.columns , axis = 1)\n",
    "\n",
    "x.head()\n"
   ]
  },
  {
   "cell_type": "code",
   "execution_count": 4,
   "id": "faf0f154",
   "metadata": {
    "execution": {
     "iopub.execute_input": "2021-08-09T10:49:52.036267Z",
     "iopub.status.busy": "2021-08-09T10:49:52.035584Z",
     "iopub.status.idle": "2021-08-09T10:49:52.093231Z",
     "shell.execute_reply": "2021-08-09T10:49:52.092671Z",
     "shell.execute_reply.started": "2021-08-09T09:55:51.445569Z"
    },
    "papermill": {
     "duration": 0.083586,
     "end_time": "2021-08-09T10:49:52.093369",
     "exception": false,
     "start_time": "2021-08-09T10:49:52.009783",
     "status": "completed"
    },
    "tags": []
   },
   "outputs": [
    {
     "data": {
      "text/plain": [
       "3    2208\n",
       "4    2184\n",
       "2    1974\n",
       "1     745\n",
       "Name: season, dtype: int64"
      ]
     },
     "execution_count": 4,
     "metadata": {},
     "output_type": "execute_result"
    }
   ],
   "source": [
    "data_1['date_time'] = pd.to_datetime(data_1.date_time, format = \"%Y-%m-%d %H:%M:%S\")\n",
    "data_1['season'] = data_1.date_time.apply(lambda x: x.month%12/3 + 1).astype(int)\n",
    "data_1.season.value_counts()"
   ]
  },
  {
   "cell_type": "code",
   "execution_count": 5,
   "id": "a1056440",
   "metadata": {
    "execution": {
     "iopub.execute_input": "2021-08-09T10:49:52.178849Z",
     "iopub.status.busy": "2021-08-09T10:49:52.178050Z",
     "iopub.status.idle": "2021-08-09T10:49:52.182832Z",
     "shell.execute_reply": "2021-08-09T10:49:52.182320Z",
     "shell.execute_reply.started": "2021-08-09T09:55:52.406847Z"
    },
    "papermill": {
     "duration": 0.066184,
     "end_time": "2021-08-09T10:49:52.183033",
     "exception": false,
     "start_time": "2021-08-09T10:49:52.116849",
     "status": "completed"
    },
    "tags": []
   },
   "outputs": [
    {
     "data": {
      "text/plain": [
       "1    1416\n",
       "2     831\n",
       "Name: season, dtype: int64"
      ]
     },
     "execution_count": 5,
     "metadata": {},
     "output_type": "execute_result"
    }
   ],
   "source": [
    "data_2['date_time'] = pd.to_datetime(data_2.date_time, format = \"%Y-%m-%d %H:%M:%S\")\n",
    "data_2['season'] = data_2.date_time.apply(lambda x: x.month%12/3 + 1).astype(int)\n",
    "data_2['day'] = data_2.date_time.apply(lambda x:x.weekday())\n",
    "data_2.season.value_counts()"
   ]
  },
  {
   "cell_type": "code",
   "execution_count": 6,
   "id": "ec957aee",
   "metadata": {
    "execution": {
     "iopub.execute_input": "2021-08-09T10:49:52.281251Z",
     "iopub.status.busy": "2021-08-09T10:49:52.249675Z",
     "iopub.status.idle": "2021-08-09T10:49:52.296667Z",
     "shell.execute_reply": "2021-08-09T10:49:52.297173Z",
     "shell.execute_reply.started": "2021-08-09T09:55:53.735339Z"
    },
    "papermill": {
     "duration": 0.09099,
     "end_time": "2021-08-09T10:49:52.297347",
     "exception": false,
     "start_time": "2021-08-09T10:49:52.206357",
     "status": "completed"
    },
    "tags": []
   },
   "outputs": [
    {
     "data": {
      "text/html": [
       "<div>\n",
       "<style scoped>\n",
       "    .dataframe tbody tr th:only-of-type {\n",
       "        vertical-align: middle;\n",
       "    }\n",
       "\n",
       "    .dataframe tbody tr th {\n",
       "        vertical-align: top;\n",
       "    }\n",
       "\n",
       "    .dataframe thead th {\n",
       "        text-align: right;\n",
       "    }\n",
       "</style>\n",
       "<table border=\"1\" class=\"dataframe\">\n",
       "  <thead>\n",
       "    <tr style=\"text-align: right;\">\n",
       "      <th></th>\n",
       "      <th>date_time</th>\n",
       "      <th>deg_C</th>\n",
       "      <th>relative_humidity</th>\n",
       "      <th>absolute_humidity</th>\n",
       "      <th>sensor_1</th>\n",
       "      <th>sensor_2</th>\n",
       "      <th>sensor_3</th>\n",
       "      <th>sensor_4</th>\n",
       "      <th>sensor_5</th>\n",
       "      <th>target_carbon_monoxide</th>\n",
       "      <th>target_benzene</th>\n",
       "      <th>target_nitrogen_oxides</th>\n",
       "      <th>season</th>\n",
       "      <th>day</th>\n",
       "    </tr>\n",
       "  </thead>\n",
       "  <tbody>\n",
       "    <tr>\n",
       "      <th>0</th>\n",
       "      <td>2010-03-10 18:00:00</td>\n",
       "      <td>13.1</td>\n",
       "      <td>46.0</td>\n",
       "      <td>0.7578</td>\n",
       "      <td>1387.2</td>\n",
       "      <td>1087.8</td>\n",
       "      <td>1056.0</td>\n",
       "      <td>1742.8</td>\n",
       "      <td>1293.4</td>\n",
       "      <td>2.5</td>\n",
       "      <td>12.0</td>\n",
       "      <td>167.7</td>\n",
       "      <td>2</td>\n",
       "      <td>2</td>\n",
       "    </tr>\n",
       "    <tr>\n",
       "      <th>1</th>\n",
       "      <td>2010-03-10 19:00:00</td>\n",
       "      <td>13.2</td>\n",
       "      <td>45.3</td>\n",
       "      <td>0.7255</td>\n",
       "      <td>1279.1</td>\n",
       "      <td>888.2</td>\n",
       "      <td>1197.5</td>\n",
       "      <td>1449.9</td>\n",
       "      <td>1010.9</td>\n",
       "      <td>2.1</td>\n",
       "      <td>9.9</td>\n",
       "      <td>98.9</td>\n",
       "      <td>2</td>\n",
       "      <td>2</td>\n",
       "    </tr>\n",
       "    <tr>\n",
       "      <th>2</th>\n",
       "      <td>2010-03-10 20:00:00</td>\n",
       "      <td>12.6</td>\n",
       "      <td>56.2</td>\n",
       "      <td>0.7502</td>\n",
       "      <td>1331.9</td>\n",
       "      <td>929.6</td>\n",
       "      <td>1060.2</td>\n",
       "      <td>1586.1</td>\n",
       "      <td>1117.0</td>\n",
       "      <td>2.2</td>\n",
       "      <td>9.2</td>\n",
       "      <td>127.1</td>\n",
       "      <td>2</td>\n",
       "      <td>2</td>\n",
       "    </tr>\n",
       "    <tr>\n",
       "      <th>3</th>\n",
       "      <td>2010-03-10 21:00:00</td>\n",
       "      <td>11.0</td>\n",
       "      <td>62.4</td>\n",
       "      <td>0.7867</td>\n",
       "      <td>1321.0</td>\n",
       "      <td>929.0</td>\n",
       "      <td>1102.9</td>\n",
       "      <td>1536.5</td>\n",
       "      <td>1263.2</td>\n",
       "      <td>2.2</td>\n",
       "      <td>9.7</td>\n",
       "      <td>177.2</td>\n",
       "      <td>2</td>\n",
       "      <td>2</td>\n",
       "    </tr>\n",
       "    <tr>\n",
       "      <th>4</th>\n",
       "      <td>2010-03-10 22:00:00</td>\n",
       "      <td>11.9</td>\n",
       "      <td>59.0</td>\n",
       "      <td>0.7888</td>\n",
       "      <td>1272.0</td>\n",
       "      <td>852.7</td>\n",
       "      <td>1180.9</td>\n",
       "      <td>1415.5</td>\n",
       "      <td>1132.2</td>\n",
       "      <td>1.5</td>\n",
       "      <td>6.4</td>\n",
       "      <td>121.8</td>\n",
       "      <td>2</td>\n",
       "      <td>2</td>\n",
       "    </tr>\n",
       "  </tbody>\n",
       "</table>\n",
       "</div>"
      ],
      "text/plain": [
       "            date_time  deg_C  relative_humidity  absolute_humidity  sensor_1  \\\n",
       "0 2010-03-10 18:00:00   13.1               46.0             0.7578    1387.2   \n",
       "1 2010-03-10 19:00:00   13.2               45.3             0.7255    1279.1   \n",
       "2 2010-03-10 20:00:00   12.6               56.2             0.7502    1331.9   \n",
       "3 2010-03-10 21:00:00   11.0               62.4             0.7867    1321.0   \n",
       "4 2010-03-10 22:00:00   11.9               59.0             0.7888    1272.0   \n",
       "\n",
       "   sensor_2  sensor_3  sensor_4  sensor_5  target_carbon_monoxide  \\\n",
       "0    1087.8    1056.0    1742.8    1293.4                     2.5   \n",
       "1     888.2    1197.5    1449.9    1010.9                     2.1   \n",
       "2     929.6    1060.2    1586.1    1117.0                     2.2   \n",
       "3     929.0    1102.9    1536.5    1263.2                     2.2   \n",
       "4     852.7    1180.9    1415.5    1132.2                     1.5   \n",
       "\n",
       "   target_benzene  target_nitrogen_oxides  season  day  \n",
       "0            12.0                   167.7       2    2  \n",
       "1             9.9                    98.9       2    2  \n",
       "2             9.2                   127.1       2    2  \n",
       "3             9.7                   177.2       2    2  \n",
       "4             6.4                   121.8       2    2  "
      ]
     },
     "execution_count": 6,
     "metadata": {},
     "output_type": "execute_result"
    }
   ],
   "source": [
    "data_1['day'] = data_1.date_time.apply(lambda x:x.weekday())\n",
    "data_1.head()"
   ]
  },
  {
   "cell_type": "code",
   "execution_count": 7,
   "id": "f12edb8c",
   "metadata": {
    "execution": {
     "iopub.execute_input": "2021-08-09T10:49:52.360073Z",
     "iopub.status.busy": "2021-08-09T10:49:52.359322Z",
     "iopub.status.idle": "2021-08-09T10:49:52.396133Z",
     "shell.execute_reply": "2021-08-09T10:49:52.395482Z",
     "shell.execute_reply.started": "2021-08-09T09:55:54.806554Z"
    },
    "papermill": {
     "duration": 0.074965,
     "end_time": "2021-08-09T10:49:52.396272",
     "exception": false,
     "start_time": "2021-08-09T10:49:52.321307",
     "status": "completed"
    },
    "tags": []
   },
   "outputs": [
    {
     "data": {
      "text/html": [
       "<div>\n",
       "<style scoped>\n",
       "    .dataframe tbody tr th:only-of-type {\n",
       "        vertical-align: middle;\n",
       "    }\n",
       "\n",
       "    .dataframe tbody tr th {\n",
       "        vertical-align: top;\n",
       "    }\n",
       "\n",
       "    .dataframe thead th {\n",
       "        text-align: right;\n",
       "    }\n",
       "</style>\n",
       "<table border=\"1\" class=\"dataframe\">\n",
       "  <thead>\n",
       "    <tr style=\"text-align: right;\">\n",
       "      <th></th>\n",
       "      <th>deg_C</th>\n",
       "      <th>relative_humidity</th>\n",
       "      <th>absolute_humidity</th>\n",
       "      <th>sensor_1</th>\n",
       "      <th>sensor_2</th>\n",
       "      <th>sensor_3</th>\n",
       "      <th>sensor_4</th>\n",
       "      <th>sensor_5</th>\n",
       "      <th>season</th>\n",
       "      <th>day</th>\n",
       "      <th>Nc</th>\n",
       "    </tr>\n",
       "  </thead>\n",
       "  <tbody>\n",
       "    <tr>\n",
       "      <th>0</th>\n",
       "      <td>13.1</td>\n",
       "      <td>46.0</td>\n",
       "      <td>0.7578</td>\n",
       "      <td>1387.2</td>\n",
       "      <td>1087.8</td>\n",
       "      <td>1056.0</td>\n",
       "      <td>1742.8</td>\n",
       "      <td>1293.4</td>\n",
       "      <td>2</td>\n",
       "      <td>2</td>\n",
       "      <td>1.647391</td>\n",
       "    </tr>\n",
       "    <tr>\n",
       "      <th>1</th>\n",
       "      <td>13.2</td>\n",
       "      <td>45.3</td>\n",
       "      <td>0.7255</td>\n",
       "      <td>1279.1</td>\n",
       "      <td>888.2</td>\n",
       "      <td>1197.5</td>\n",
       "      <td>1449.9</td>\n",
       "      <td>1010.9</td>\n",
       "      <td>2</td>\n",
       "      <td>2</td>\n",
       "      <td>1.601545</td>\n",
       "    </tr>\n",
       "    <tr>\n",
       "      <th>2</th>\n",
       "      <td>12.6</td>\n",
       "      <td>56.2</td>\n",
       "      <td>0.7502</td>\n",
       "      <td>1331.9</td>\n",
       "      <td>929.6</td>\n",
       "      <td>1060.2</td>\n",
       "      <td>1586.1</td>\n",
       "      <td>1117.0</td>\n",
       "      <td>2</td>\n",
       "      <td>2</td>\n",
       "      <td>1.334875</td>\n",
       "    </tr>\n",
       "    <tr>\n",
       "      <th>3</th>\n",
       "      <td>11.0</td>\n",
       "      <td>62.4</td>\n",
       "      <td>0.7867</td>\n",
       "      <td>1321.0</td>\n",
       "      <td>929.0</td>\n",
       "      <td>1102.9</td>\n",
       "      <td>1536.5</td>\n",
       "      <td>1263.2</td>\n",
       "      <td>2</td>\n",
       "      <td>2</td>\n",
       "      <td>1.260737</td>\n",
       "    </tr>\n",
       "    <tr>\n",
       "      <th>4</th>\n",
       "      <td>11.9</td>\n",
       "      <td>59.0</td>\n",
       "      <td>0.7888</td>\n",
       "      <td>1272.0</td>\n",
       "      <td>852.7</td>\n",
       "      <td>1180.9</td>\n",
       "      <td>1415.5</td>\n",
       "      <td>1132.2</td>\n",
       "      <td>2</td>\n",
       "      <td>2</td>\n",
       "      <td>1.336949</td>\n",
       "    </tr>\n",
       "  </tbody>\n",
       "</table>\n",
       "</div>"
      ],
      "text/plain": [
       "   deg_C  relative_humidity  absolute_humidity  sensor_1  sensor_2  sensor_3  \\\n",
       "0   13.1               46.0             0.7578    1387.2    1087.8    1056.0   \n",
       "1   13.2               45.3             0.7255    1279.1     888.2    1197.5   \n",
       "2   12.6               56.2             0.7502    1331.9     929.6    1060.2   \n",
       "3   11.0               62.4             0.7867    1321.0     929.0    1102.9   \n",
       "4   11.9               59.0             0.7888    1272.0     852.7    1180.9   \n",
       "\n",
       "   sensor_4  sensor_5  season  day        Nc  \n",
       "0    1742.8    1293.4       2    2  1.647391  \n",
       "1    1449.9    1010.9       2    2  1.601545  \n",
       "2    1586.1    1117.0       2    2  1.334875  \n",
       "3    1536.5    1263.2       2    2  1.260737  \n",
       "4    1415.5    1132.2       2    2  1.336949  "
      ]
     },
     "execution_count": 7,
     "metadata": {},
     "output_type": "execute_result"
    }
   ],
   "source": [
    "x = x.drop('date_time', axis = 1)\n",
    "x['season'] = data_1.season\n",
    "x['day'] = data_1.day\n",
    "x['Nc'] = (data_1.absolute_humidity * 100 / data_1.relative_humidity)\n",
    "data_1['nc'] = x.Nc\n",
    "x.head()"
   ]
  },
  {
   "cell_type": "code",
   "execution_count": 8,
   "id": "66e084e1",
   "metadata": {
    "execution": {
     "iopub.execute_input": "2021-08-09T10:49:52.448490Z",
     "iopub.status.busy": "2021-08-09T10:49:52.447804Z",
     "iopub.status.idle": "2021-08-09T10:49:52.469035Z",
     "shell.execute_reply": "2021-08-09T10:49:52.469587Z",
     "shell.execute_reply.started": "2021-08-09T09:55:58.646347Z"
    },
    "papermill": {
     "duration": 0.048895,
     "end_time": "2021-08-09T10:49:52.469759",
     "exception": false,
     "start_time": "2021-08-09T10:49:52.420864",
     "status": "completed"
    },
    "tags": []
   },
   "outputs": [
    {
     "data": {
      "text/html": [
       "<div>\n",
       "<style scoped>\n",
       "    .dataframe tbody tr th:only-of-type {\n",
       "        vertical-align: middle;\n",
       "    }\n",
       "\n",
       "    .dataframe tbody tr th {\n",
       "        vertical-align: top;\n",
       "    }\n",
       "\n",
       "    .dataframe thead th {\n",
       "        text-align: right;\n",
       "    }\n",
       "</style>\n",
       "<table border=\"1\" class=\"dataframe\">\n",
       "  <thead>\n",
       "    <tr style=\"text-align: right;\">\n",
       "      <th></th>\n",
       "      <th>deg_C</th>\n",
       "      <th>relative_humidity</th>\n",
       "      <th>absolute_humidity</th>\n",
       "      <th>sensor_1</th>\n",
       "      <th>sensor_2</th>\n",
       "      <th>sensor_3</th>\n",
       "      <th>sensor_4</th>\n",
       "      <th>sensor_5</th>\n",
       "      <th>season</th>\n",
       "      <th>day</th>\n",
       "      <th>Nc</th>\n",
       "    </tr>\n",
       "  </thead>\n",
       "  <tbody>\n",
       "    <tr>\n",
       "      <th>0</th>\n",
       "      <td>8.0</td>\n",
       "      <td>41.3</td>\n",
       "      <td>0.4375</td>\n",
       "      <td>1108.8</td>\n",
       "      <td>745.7</td>\n",
       "      <td>797.1</td>\n",
       "      <td>880.0</td>\n",
       "      <td>1273.1</td>\n",
       "      <td>1</td>\n",
       "      <td>5</td>\n",
       "      <td>1.059322</td>\n",
       "    </tr>\n",
       "    <tr>\n",
       "      <th>1</th>\n",
       "      <td>5.1</td>\n",
       "      <td>51.7</td>\n",
       "      <td>0.4564</td>\n",
       "      <td>1249.5</td>\n",
       "      <td>864.9</td>\n",
       "      <td>687.9</td>\n",
       "      <td>972.8</td>\n",
       "      <td>1714.0</td>\n",
       "      <td>1</td>\n",
       "      <td>5</td>\n",
       "      <td>0.882785</td>\n",
       "    </tr>\n",
       "    <tr>\n",
       "      <th>2</th>\n",
       "      <td>5.8</td>\n",
       "      <td>51.5</td>\n",
       "      <td>0.4689</td>\n",
       "      <td>1102.6</td>\n",
       "      <td>878.0</td>\n",
       "      <td>693.7</td>\n",
       "      <td>941.9</td>\n",
       "      <td>1300.8</td>\n",
       "      <td>1</td>\n",
       "      <td>5</td>\n",
       "      <td>0.910485</td>\n",
       "    </tr>\n",
       "    <tr>\n",
       "      <th>3</th>\n",
       "      <td>5.0</td>\n",
       "      <td>52.3</td>\n",
       "      <td>0.4693</td>\n",
       "      <td>1139.7</td>\n",
       "      <td>916.2</td>\n",
       "      <td>725.6</td>\n",
       "      <td>1011.0</td>\n",
       "      <td>1283.0</td>\n",
       "      <td>1</td>\n",
       "      <td>5</td>\n",
       "      <td>0.897323</td>\n",
       "    </tr>\n",
       "    <tr>\n",
       "      <th>4</th>\n",
       "      <td>4.5</td>\n",
       "      <td>57.5</td>\n",
       "      <td>0.4650</td>\n",
       "      <td>1022.4</td>\n",
       "      <td>838.5</td>\n",
       "      <td>871.5</td>\n",
       "      <td>967.0</td>\n",
       "      <td>1142.3</td>\n",
       "      <td>1</td>\n",
       "      <td>5</td>\n",
       "      <td>0.808696</td>\n",
       "    </tr>\n",
       "  </tbody>\n",
       "</table>\n",
       "</div>"
      ],
      "text/plain": [
       "   deg_C  relative_humidity  absolute_humidity  sensor_1  sensor_2  sensor_3  \\\n",
       "0    8.0               41.3             0.4375    1108.8     745.7     797.1   \n",
       "1    5.1               51.7             0.4564    1249.5     864.9     687.9   \n",
       "2    5.8               51.5             0.4689    1102.6     878.0     693.7   \n",
       "3    5.0               52.3             0.4693    1139.7     916.2     725.6   \n",
       "4    4.5               57.5             0.4650    1022.4     838.5     871.5   \n",
       "\n",
       "   sensor_4  sensor_5  season  day        Nc  \n",
       "0     880.0    1273.1       1    5  1.059322  \n",
       "1     972.8    1714.0       1    5  0.882785  \n",
       "2     941.9    1300.8       1    5  0.910485  \n",
       "3    1011.0    1283.0       1    5  0.897323  \n",
       "4     967.0    1142.3       1    5  0.808696  "
      ]
     },
     "execution_count": 8,
     "metadata": {},
     "output_type": "execute_result"
    }
   ],
   "source": [
    "data_2 = data_2.drop('date_time', axis = 1)\n",
    "data_2['Nc'] = (data_2.absolute_humidity * 100 / data_2.relative_humidity)\n",
    "data_2.head()"
   ]
  },
  {
   "cell_type": "code",
   "execution_count": 9,
   "id": "4ff6f42c",
   "metadata": {
    "execution": {
     "iopub.execute_input": "2021-08-09T10:49:52.524826Z",
     "iopub.status.busy": "2021-08-09T10:49:52.524180Z",
     "iopub.status.idle": "2021-08-09T10:49:54.100548Z",
     "shell.execute_reply": "2021-08-09T10:49:54.101073Z",
     "shell.execute_reply.started": "2021-08-09T09:56:05.370220Z"
    },
    "papermill": {
     "duration": 1.606366,
     "end_time": "2021-08-09T10:49:54.101243",
     "exception": false,
     "start_time": "2021-08-09T10:49:52.494877",
     "status": "completed"
    },
    "tags": []
   },
   "outputs": [
    {
     "data": {
      "image/png": "[encoded data removed]",
      "text/plain": [
       "<Figure size 1440x1080 with 6 Axes>"
      ]
     },
     "metadata": {
      "needs_background": "light"
     },
     "output_type": "display_data"
    }
   ],
   "source": [
    "fig, ax = plt.subplots(2, 3, figsize = (20, 15))\n",
    "i = 0\n",
    "for j in target.columns:\n",
    "    sns.barplot(x = data_1.season, y = data_1[f\"{j}\"], ax =ax[0][i])\n",
    "    sns.histplot(x = data_1.nc, y = data_1[f\"{j}\"], ax =ax[1][i])\n",
    "    #ax[i].set_title(f\"{j}\")\n",
    "    \n",
    "    i += 1"
   ]
  },
  {
   "cell_type": "code",
   "execution_count": 10,
   "id": "e50128f5",
   "metadata": {
    "execution": {
     "iopub.execute_input": "2021-08-09T10:49:54.158159Z",
     "iopub.status.busy": "2021-08-09T10:49:54.157523Z",
     "iopub.status.idle": "2021-08-09T10:49:56.045841Z",
     "shell.execute_reply": "2021-08-09T10:49:56.045313Z",
     "shell.execute_reply.started": "2021-08-09T09:56:12.357673Z"
    },
    "papermill": {
     "duration": 1.917681,
     "end_time": "2021-08-09T10:49:56.046011",
     "exception": false,
     "start_time": "2021-08-09T10:49:54.128330",
     "status": "completed"
    },
    "tags": []
   },
   "outputs": [
    {
     "data": {
      "text/plain": [
       "array([[<AxesSubplot:title={'center':'deg_C'}>,\n",
       "        <AxesSubplot:title={'center':'relative_humidity'}>,\n",
       "        <AxesSubplot:title={'center':'absolute_humidity'}>],\n",
       "       [<AxesSubplot:title={'center':'sensor_1'}>,\n",
       "        <AxesSubplot:title={'center':'sensor_2'}>,\n",
       "        <AxesSubplot:title={'center':'sensor_3'}>],\n",
       "       [<AxesSubplot:title={'center':'sensor_4'}>,\n",
       "        <AxesSubplot:title={'center':'sensor_5'}>,\n",
       "        <AxesSubplot:title={'center':'season'}>],\n",
       "       [<AxesSubplot:title={'center':'day'}>,\n",
       "        <AxesSubplot:title={'center':'Nc'}>, <AxesSubplot:>]],\n",
       "      dtype=object)"
      ]
     },
     "execution_count": 10,
     "metadata": {},
     "output_type": "execute_result"
    },
    {
     "data": {
      "image/png": "[encoded data removed]",
      "text/plain": [
       "<Figure size 1728x864 with 12 Axes>"
      ]
     },
     "metadata": {
      "needs_background": "light"
     },
     "output_type": "display_data"
    }
   ],
   "source": [
    "x.hist(figsize = (24,12))"
   ]
  },
  {
   "cell_type": "code",
   "execution_count": 11,
   "id": "f85beb22",
   "metadata": {
    "execution": {
     "iopub.execute_input": "2021-08-09T10:49:56.109465Z",
     "iopub.status.busy": "2021-08-09T10:49:56.108747Z",
     "iopub.status.idle": "2021-08-09T10:49:56.783386Z",
     "shell.execute_reply": "2021-08-09T10:49:56.783838Z",
     "shell.execute_reply.started": "2021-08-09T09:56:15.179895Z"
    },
    "papermill": {
     "duration": 0.709239,
     "end_time": "2021-08-09T10:49:56.784039",
     "exception": false,
     "start_time": "2021-08-09T10:49:56.074800",
     "status": "completed"
    },
    "tags": []
   },
   "outputs": [
    {
     "data": {
      "text/plain": [
       "<AxesSubplot:>"
      ]
     },
     "execution_count": 11,
     "metadata": {},
     "output_type": "execute_result"
    },
    {
     "data": {
      "image/png": "[encoded data removed]",
      "text/plain": [
       "<Figure size 1728x1440 with 1 Axes>"
      ]
     },
     "metadata": {
      "needs_background": "light"
     },
     "output_type": "display_data"
    }
   ],
   "source": [
    "data_1.corr()[target.columns].plot.bar(figsize = (24,20))"
   ]
  },
  {
   "cell_type": "code",
   "execution_count": 12,
   "id": "79335131",
   "metadata": {
    "execution": {
     "iopub.execute_input": "2021-08-09T10:49:56.851525Z",
     "iopub.status.busy": "2021-08-09T10:49:56.850845Z",
     "iopub.status.idle": "2021-08-09T10:49:57.385162Z",
     "shell.execute_reply": "2021-08-09T10:49:57.385648Z",
     "shell.execute_reply.started": "2021-08-09T09:56:22.215330Z"
    },
    "papermill": {
     "duration": 0.571232,
     "end_time": "2021-08-09T10:49:57.385815",
     "exception": false,
     "start_time": "2021-08-09T10:49:56.814583",
     "status": "completed"
    },
    "tags": []
   },
   "outputs": [
    {
     "data": {
      "text/plain": [
       "<AxesSubplot:>"
      ]
     },
     "execution_count": 12,
     "metadata": {},
     "output_type": "execute_result"
    },
    {
     "data": {
      "image/png": "[encoded data removed]",
      "text/plain": [
       "<Figure size 1728x1296 with 2 Axes>"
      ]
     },
     "metadata": {
      "needs_background": "light"
     },
     "output_type": "display_data"
    }
   ],
   "source": [
    "fig = plt.figure(figsize = (24,18))\n",
    "sns.heatmap(data_1.corr(), linewidth = 0.09)"
   ]
  },
  {
   "cell_type": "code",
   "execution_count": 13,
   "id": "24c31621",
   "metadata": {
    "execution": {
     "iopub.execute_input": "2021-08-09T10:49:57.456349Z",
     "iopub.status.busy": "2021-08-09T10:49:57.455340Z",
     "iopub.status.idle": "2021-08-09T10:49:57.461894Z",
     "shell.execute_reply": "2021-08-09T10:49:57.461368Z",
     "shell.execute_reply.started": "2021-08-09T09:56:28.434273Z"
    },
    "papermill": {
     "duration": 0.044024,
     "end_time": "2021-08-09T10:49:57.462072",
     "exception": false,
     "start_time": "2021-08-09T10:49:57.418048",
     "status": "completed"
    },
    "tags": []
   },
   "outputs": [],
   "source": [
    "train_x, val_x, train_y, val_y = train_test_split(x, target, test_size = 0.3, random_state = 1)"
   ]
  },
  {
   "cell_type": "code",
   "execution_count": 14,
   "id": "3046ad79",
   "metadata": {
    "execution": {
     "iopub.execute_input": "2021-08-09T10:49:57.536233Z",
     "iopub.status.busy": "2021-08-09T10:49:57.535104Z",
     "iopub.status.idle": "2021-08-09T10:49:57.561752Z",
     "shell.execute_reply": "2021-08-09T10:49:57.560966Z",
     "shell.execute_reply.started": "2021-08-09T09:59:11.164140Z"
    },
    "papermill": {
     "duration": 0.067269,
     "end_time": "2021-08-09T10:49:57.561979",
     "exception": false,
     "start_time": "2021-08-09T10:49:57.494710",
     "status": "completed"
    },
    "tags": []
   },
   "outputs": [],
   "source": [
    "rc = RobustScaler()\n",
    "t_x = pd.DataFrame(rc.fit_transform(train_x))\n",
    "v_x = pd.DataFrame(rc.fit_transform(val_x))\n",
    "test = pd.DataFrame(rc.fit_transform(data_2))"
   ]
  },
  {
   "cell_type": "code",
   "execution_count": 15,
   "id": "a80a55fd",
   "metadata": {
    "execution": {
     "iopub.execute_input": "2021-08-09T10:49:57.640933Z",
     "iopub.status.busy": "2021-08-09T10:49:57.633485Z",
     "iopub.status.idle": "2021-08-09T10:50:19.076996Z",
     "shell.execute_reply": "2021-08-09T10:50:19.077676Z",
     "shell.execute_reply.started": "2021-08-09T10:00:07.676685Z"
    },
    "papermill": {
     "duration": 21.483537,
     "end_time": "2021-08-09T10:50:19.077995",
     "exception": false,
     "start_time": "2021-08-09T10:49:57.594458",
     "status": "completed"
    },
    "tags": []
   },
   "outputs": [
    {
     "name": "stdout",
     "output_type": "stream",
     "text": [
      "0.17218436561321443\n"
     ]
    }
   ],
   "source": [
    "model_1 = RandomForestRegressor(n_estimators = 500)\n",
    "model_1.fit(train_x, train_y)\n",
    "pred = model_1.predict(val_x)\n",
    "error = np.sqrt(mean_squared_log_error(val_y,pred))\n",
    "print(error)\n"
   ]
  },
  {
   "cell_type": "code",
   "execution_count": 16,
   "id": "b093ea2c",
   "metadata": {
    "execution": {
     "iopub.execute_input": "2021-08-09T10:50:19.152388Z",
     "iopub.status.busy": "2021-08-09T10:50:19.151590Z",
     "iopub.status.idle": "2021-08-09T10:50:26.543933Z",
     "shell.execute_reply": "2021-08-09T10:50:26.544608Z",
     "shell.execute_reply.started": "2021-08-09T10:00:36.328235Z"
    },
    "papermill": {
     "duration": 7.432285,
     "end_time": "2021-08-09T10:50:26.544804",
     "exception": false,
     "start_time": "2021-08-09T10:50:19.112519",
     "status": "completed"
    },
    "tags": []
   },
   "outputs": [
    {
     "name": "stdout",
     "output_type": "stream",
     "text": [
      "0.21165070930081212\n"
     ]
    }
   ],
   "source": [
    "import xgboost\n",
    "from sklearn.multioutput import MultiOutputRegressor\n",
    "model_ = xgboost.XGBRFRegressor(n_estimators = 500)\n",
    "model_2 = MultiOutputRegressor(model_)\n",
    "model_2.fit(train_x, train_y )\n",
    "pred_2 = model_2.predict(val_x)\n",
    "error_2 = np.sqrt(mean_squared_log_error(pred_2, val_y))\n",
    "print(error_2)"
   ]
  },
  {
   "cell_type": "code",
   "execution_count": 17,
   "id": "e83c1c88",
   "metadata": {
    "execution": {
     "iopub.execute_input": "2021-08-09T10:50:26.619182Z",
     "iopub.status.busy": "2021-08-09T10:50:26.618288Z",
     "iopub.status.idle": "2021-08-09T10:50:26.673497Z",
     "shell.execute_reply": "2021-08-09T10:50:26.672783Z",
     "shell.execute_reply.started": "2021-08-09T10:46:35.408043Z"
    },
    "papermill": {
     "duration": 0.094192,
     "end_time": "2021-08-09T10:50:26.673637",
     "exception": false,
     "start_time": "2021-08-09T10:50:26.579445",
     "status": "completed"
    },
    "tags": []
   },
   "outputs": [],
   "source": [
    "model3 = keras.Sequential([layers.BatchNormalization(),\n",
    "    layers.InputLayer(input_shape = [train_x.shape[1]]),\n",
    "    layers.Dense(128, kernel_initializer = 'normal', activation = 'relu'),\n",
    "    layers.BatchNormalization(),\n",
    "    layers.Dense(128, kernel_initializer = 'normal', activation = 'relu'),\n",
    "    layers.Dense(3, activation = 'linear')\n",
    "])"
   ]
  },
  {
   "cell_type": "code",
   "execution_count": 18,
   "id": "d7a5f531",
   "metadata": {
    "execution": {
     "iopub.execute_input": "2021-08-09T10:50:26.753179Z",
     "iopub.status.busy": "2021-08-09T10:50:26.752504Z",
     "iopub.status.idle": "2021-08-09T10:50:26.764795Z",
     "shell.execute_reply": "2021-08-09T10:50:26.764276Z",
     "shell.execute_reply.started": "2021-08-09T10:46:35.745047Z"
    },
    "papermill": {
     "duration": 0.058014,
     "end_time": "2021-08-09T10:50:26.764956",
     "exception": false,
     "start_time": "2021-08-09T10:50:26.706942",
     "status": "completed"
    },
    "tags": []
   },
   "outputs": [],
   "source": [
    "model3.compile( optimizer = 'adam',\n",
    "             loss = 'msle')\n",
    "call = callbacks.EarlyStopping( patience = 10, \n",
    "                              min_delta = 0.001,\n",
    "                              restore_best_weights = True)"
   ]
  },
  {
   "cell_type": "code",
   "execution_count": 19,
   "id": "5399c644",
   "metadata": {
    "execution": {
     "iopub.execute_input": "2021-08-09T10:50:26.837891Z",
     "iopub.status.busy": "2021-08-09T10:50:26.837245Z",
     "iopub.status.idle": "2021-08-09T10:50:41.221868Z",
     "shell.execute_reply": "2021-08-09T10:50:41.222378Z",
     "shell.execute_reply.started": "2021-08-09T10:46:36.014335Z"
    },
    "papermill": {
     "duration": 14.424244,
     "end_time": "2021-08-09T10:50:41.222578",
     "exception": false,
     "start_time": "2021-08-09T10:50:26.798334",
     "status": "completed"
    },
    "tags": []
   },
   "outputs": [],
   "source": [
    "h = model3.fit(train_x, train_y, validation_split = 0.2, \n",
    "               callbacks = [call], epochs = 1000, batch_size = 128, verbose = 0)"
   ]
  },
  {
   "cell_type": "code",
   "execution_count": 20,
   "id": "75942873",
   "metadata": {
    "execution": {
     "iopub.execute_input": "2021-08-09T10:50:41.303489Z",
     "iopub.status.busy": "2021-08-09T10:50:41.302440Z",
     "iopub.status.idle": "2021-08-09T10:50:41.490436Z",
     "shell.execute_reply": "2021-08-09T10:50:41.489850Z",
     "shell.execute_reply.started": "2021-08-09T10:46:47.532668Z"
    },
    "papermill": {
     "duration": 0.233346,
     "end_time": "2021-08-09T10:50:41.490575",
     "exception": false,
     "start_time": "2021-08-09T10:50:41.257229",
     "status": "completed"
    },
    "tags": []
   },
   "outputs": [
    {
     "name": "stdout",
     "output_type": "stream",
     "text": [
      "0.1954813037015437 0.18124429471803494\n"
     ]
    },
    {
     "data": {
      "image/png": "[encoded data removed]",
      "text/plain": [
       "<Figure size 864x576 with 1 Axes>"
      ]
     },
     "metadata": {
      "needs_background": "light"
     },
     "output_type": "display_data"
    }
   ],
   "source": [
    "out = pd.DataFrame(h.history)\n",
    "out.plot(figsize = (12,8))\n",
    "print(np.sqrt(out.loss.min()), np.sqrt(out.val_loss.min()))"
   ]
  },
  {
   "cell_type": "code",
   "execution_count": 21,
   "id": "dd7376fb",
   "metadata": {
    "execution": {
     "iopub.execute_input": "2021-08-09T10:50:41.565708Z",
     "iopub.status.busy": "2021-08-09T10:50:41.565051Z",
     "iopub.status.idle": "2021-08-09T10:50:41.771168Z",
     "shell.execute_reply": "2021-08-09T10:50:41.770494Z",
     "shell.execute_reply.started": "2021-08-09T10:46:47.769775Z"
    },
    "papermill": {
     "duration": 0.246489,
     "end_time": "2021-08-09T10:50:41.771309",
     "exception": false,
     "start_time": "2021-08-09T10:50:41.524820",
     "status": "completed"
    },
    "tags": []
   },
   "outputs": [
    {
     "name": "stdout",
     "output_type": "stream",
     "text": [
      "0.2176238798068745\n"
     ]
    }
   ],
   "source": [
    "ex = model3.predict(val_x)\n",
    "result = np.sqrt(mean_squared_log_error(abs(ex), abs(val_y)))\n",
    "print(result)"
   ]
  },
  {
   "cell_type": "code",
   "execution_count": 22,
   "id": "ea39ec81",
   "metadata": {
    "execution": {
     "iopub.execute_input": "2021-08-09T10:50:41.847797Z",
     "iopub.status.busy": "2021-08-09T10:50:41.846815Z",
     "iopub.status.idle": "2021-08-09T10:50:41.950040Z",
     "shell.execute_reply": "2021-08-09T10:50:41.949415Z",
     "shell.execute_reply.started": "2021-08-09T10:48:15.945632Z"
    },
    "papermill": {
     "duration": 0.143649,
     "end_time": "2021-08-09T10:50:41.950189",
     "exception": false,
     "start_time": "2021-08-09T10:50:41.806540",
     "status": "completed"
    },
    "tags": []
   },
   "outputs": [],
   "source": [
    "ans =pd.DataFrame(model3.predict(data_2))"
   ]
  },
  {
   "cell_type": "code",
   "execution_count": 23,
   "id": "af92486a",
   "metadata": {
    "execution": {
     "iopub.execute_input": "2021-08-09T10:50:42.027245Z",
     "iopub.status.busy": "2021-08-09T10:50:42.026574Z",
     "iopub.status.idle": "2021-08-09T10:50:42.043835Z",
     "shell.execute_reply": "2021-08-09T10:50:42.043281Z",
     "shell.execute_reply.started": "2021-08-09T10:48:17.341518Z"
    },
    "papermill": {
     "duration": 0.057224,
     "end_time": "2021-08-09T10:50:42.044039",
     "exception": false,
     "start_time": "2021-08-09T10:50:41.986815",
     "status": "completed"
    },
    "tags": []
   },
   "outputs": [],
   "source": [
    "output = pd.read_csv(\"../input/tabular-playground-series-jul-2021/sample_submission.csv\")"
   ]
  },
  {
   "cell_type": "code",
   "execution_count": 24,
   "id": "ff600ff9",
   "metadata": {
    "execution": {
     "iopub.execute_input": "2021-08-09T10:50:42.120157Z",
     "iopub.status.busy": "2021-08-09T10:50:42.119404Z",
     "iopub.status.idle": "2021-08-09T10:50:42.122532Z",
     "shell.execute_reply": "2021-08-09T10:50:42.122007Z",
     "shell.execute_reply.started": "2021-08-09T10:48:18.530238Z"
    },
    "papermill": {
     "duration": 0.042817,
     "end_time": "2021-08-09T10:50:42.122670",
     "exception": false,
     "start_time": "2021-08-09T10:50:42.079853",
     "status": "completed"
    },
    "tags": []
   },
   "outputs": [],
   "source": [
    "ans.columns = y.columns"
   ]
  },
  {
   "cell_type": "code",
   "execution_count": 25,
   "id": "3ac17856",
   "metadata": {
    "execution": {
     "iopub.execute_input": "2021-08-09T10:50:42.206976Z",
     "iopub.status.busy": "2021-08-09T10:50:42.206286Z",
     "iopub.status.idle": "2021-08-09T10:50:42.210625Z",
     "shell.execute_reply": "2021-08-09T10:50:42.211138Z",
     "shell.execute_reply.started": "2021-08-09T10:49:02.602261Z"
    },
    "papermill": {
     "duration": 0.053262,
     "end_time": "2021-08-09T10:50:42.211308",
     "exception": false,
     "start_time": "2021-08-09T10:50:42.158046",
     "status": "completed"
    },
    "tags": []
   },
   "outputs": [
    {
     "data": {
      "text/html": [
       "<div>\n",
       "<style scoped>\n",
       "    .dataframe tbody tr th:only-of-type {\n",
       "        vertical-align: middle;\n",
       "    }\n",
       "\n",
       "    .dataframe tbody tr th {\n",
       "        vertical-align: top;\n",
       "    }\n",
       "\n",
       "    .dataframe thead th {\n",
       "        text-align: right;\n",
       "    }\n",
       "</style>\n",
       "<table border=\"1\" class=\"dataframe\">\n",
       "  <thead>\n",
       "    <tr style=\"text-align: right;\">\n",
       "      <th></th>\n",
       "      <th>date_time</th>\n",
       "      <th>target_carbon_monoxide</th>\n",
       "      <th>target_benzene</th>\n",
       "      <th>target_nitrogen_oxides</th>\n",
       "    </tr>\n",
       "  </thead>\n",
       "  <tbody>\n",
       "    <tr>\n",
       "      <th>0</th>\n",
       "      <td>2011-01-01 00:00:00</td>\n",
       "      <td>1.434989</td>\n",
       "      <td>5.815034</td>\n",
       "      <td>281.953613</td>\n",
       "    </tr>\n",
       "    <tr>\n",
       "      <th>1</th>\n",
       "      <td>2011-01-01 01:00:00</td>\n",
       "      <td>2.595023</td>\n",
       "      <td>8.650958</td>\n",
       "      <td>420.128845</td>\n",
       "    </tr>\n",
       "    <tr>\n",
       "      <th>2</th>\n",
       "      <td>2011-01-01 02:00:00</td>\n",
       "      <td>1.816573</td>\n",
       "      <td>8.412879</td>\n",
       "      <td>376.253296</td>\n",
       "    </tr>\n",
       "    <tr>\n",
       "      <th>3</th>\n",
       "      <td>2011-01-01 03:00:00</td>\n",
       "      <td>2.255662</td>\n",
       "      <td>9.392371</td>\n",
       "      <td>372.443481</td>\n",
       "    </tr>\n",
       "    <tr>\n",
       "      <th>4</th>\n",
       "      <td>2011-01-01 04:00:00</td>\n",
       "      <td>1.871697</td>\n",
       "      <td>7.271913</td>\n",
       "      <td>284.370026</td>\n",
       "    </tr>\n",
       "  </tbody>\n",
       "</table>\n",
       "</div>"
      ],
      "text/plain": [
       "             date_time  target_carbon_monoxide  target_benzene  \\\n",
       "0  2011-01-01 00:00:00                1.434989        5.815034   \n",
       "1  2011-01-01 01:00:00                2.595023        8.650958   \n",
       "2  2011-01-01 02:00:00                1.816573        8.412879   \n",
       "3  2011-01-01 03:00:00                2.255662        9.392371   \n",
       "4  2011-01-01 04:00:00                1.871697        7.271913   \n",
       "\n",
       "   target_nitrogen_oxides  \n",
       "0              281.953613  \n",
       "1              420.128845  \n",
       "2              376.253296  \n",
       "3              372.443481  \n",
       "4              284.370026  "
      ]
     },
     "execution_count": 25,
     "metadata": {},
     "output_type": "execute_result"
    }
   ],
   "source": [
    "for i in ans.columns:\n",
    "    output[f\"{i}\"] = ans[f\"{i}\"]\n",
    "output.head()"
   ]
  },
  {
   "cell_type": "code",
   "execution_count": 26,
   "id": "e262896d",
   "metadata": {
    "execution": {
     "iopub.execute_input": "2021-08-09T10:50:42.287024Z",
     "iopub.status.busy": "2021-08-09T10:50:42.286372Z",
     "iopub.status.idle": "2021-08-09T10:50:42.307175Z",
     "shell.execute_reply": "2021-08-09T10:50:42.306436Z",
     "shell.execute_reply.started": "2021-08-09T10:49:17.591033Z"
    },
    "papermill": {
     "duration": 0.06021,
     "end_time": "2021-08-09T10:50:42.307322",
     "exception": false,
     "start_time": "2021-08-09T10:50:42.247112",
     "status": "completed"
    },
    "tags": []
   },
   "outputs": [],
   "source": [
    "output.to_csv('submission_5', index = False)"
   ]
  },
  {
   "cell_type": "code",
   "execution_count": null,
   "id": "87db392a",
   "metadata": {
    "papermill": {
     "duration": 0.037047,
     "end_time": "2021-08-09T10:50:42.384865",
     "exception": false,
     "start_time": "2021-08-09T10:50:42.347818",
     "status": "completed"
    },
    "tags": []
   },
   "outputs": [],
   "source": []
  }
 ],
 "metadata": {
  "kernelspec": {
   "display_name": "Python 3",
   "language": "python",
   "name": "python3"
  },
  "language_info": {
   "codemirror_mode": {
    "name": "ipython",
    "version": 3
   },
   "file_extension": ".py",
   "mimetype": "text/x-python",
   "name": "python",
   "nbconvert_exporter": "python",
   "pygments_lexer": "ipython3",
   "version": "3.7.10"
  },
  "papermill": {
   "default_parameters": {},
   "duration": 69.888353,
   "end_time": "2021-08-09T10:50:44.549441",
   "environment_variables": {},
   "exception": null,
   "input_path": "__notebook__.ipynb",
   "output_path": "__notebook__.ipynb",
   "parameters": {},
   "start_time": "2021-08-09T10:49:34.661088",
   "version": "2.3.3"
  }
 },
 "nbformat": 4,
 "nbformat_minor": 5
}
